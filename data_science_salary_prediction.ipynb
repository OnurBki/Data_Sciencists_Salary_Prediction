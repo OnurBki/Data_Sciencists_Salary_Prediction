{
 "cells": [
  {
   "cell_type": "markdown",
   "id": "045a2618",
   "metadata": {
    "papermill": {
     "duration": 0.018774,
     "end_time": "2024-04-29T22:28:45.220133",
     "exception": false,
     "start_time": "2024-04-29T22:28:45.201359",
     "status": "completed"
    },
    "tags": []
   },
   "source": [
    "# Importing Necessary Libraries"
   ]
  },
  {
   "cell_type": "code",
   "execution_count": 1,
   "id": "0be5a1c9",
   "metadata": {
    "_cell_guid": "b1076dfc-b9ad-4769-8c92-a6c4dae69d19",
    "_uuid": "8f2839f25d086af736a60e9eeb907d3b93b6e0e5",
    "execution": {
     "iopub.execute_input": "2024-04-29T22:28:45.259345Z",
     "iopub.status.busy": "2024-04-29T22:28:45.258872Z",
     "iopub.status.idle": "2024-04-29T22:28:49.400518Z",
     "shell.execute_reply": "2024-04-29T22:28:49.399278Z"
    },
    "papermill": {
     "duration": 4.164643,
     "end_time": "2024-04-29T22:28:49.403281",
     "exception": false,
     "start_time": "2024-04-29T22:28:45.238638",
     "status": "completed"
    },
    "tags": []
   },
   "outputs": [],
   "source": [
    "import warnings\n",
    "\n",
    "import numpy as np\n",
    "import pandas as pd\n",
    "\n",
    "import matplotlib.pyplot as plt\n",
    "import seaborn as sns\n",
    "import plotly.express as px\n",
    "\n",
    "from sklearn.preprocessing import OrdinalEncoder\n",
    "from sklearn.model_selection import train_test_split\n",
    "from sklearn.preprocessing import StandardScaler\n",
    "from sklearn.metrics import mean_absolute_error, mean_squared_error\n",
    "from sklearn.linear_model import LinearRegression\n",
    "from sklearn.linear_model import Ridge, Lasso, ElasticNet\n",
    "from sklearn.ensemble import RandomForestRegressor\n",
    "from sklearn.model_selection import RepeatedKFold\n",
    "from sklearn.model_selection import GridSearchCV\n",
    "\n",
    "# ignoring warnings\n",
    "warnings.filterwarnings('ignore')"
   ]
  },
  {
   "cell_type": "markdown",
   "id": "541c8e39",
   "metadata": {
    "papermill": {
     "duration": 0.020518,
     "end_time": "2024-04-29T22:28:49.444966",
     "exception": false,
     "start_time": "2024-04-29T22:28:49.424448",
     "status": "completed"
    },
    "tags": []
   },
   "source": [
    "# Reading Data"
   ]
  },
  {
   "cell_type": "code",
   "execution_count": 2,
   "id": "e91bb281",
   "metadata": {
    "execution": {
     "iopub.execute_input": "2024-04-29T22:28:49.485100Z",
     "iopub.status.busy": "2024-04-29T22:28:49.483831Z",
     "iopub.status.idle": "2024-04-29T22:28:49.524352Z",
     "shell.execute_reply": "2024-04-29T22:28:49.523211Z"
    },
    "papermill": {
     "duration": 0.063017,
     "end_time": "2024-04-29T22:28:49.526869",
     "exception": false,
     "start_time": "2024-04-29T22:28:49.463852",
     "status": "completed"
    },
    "tags": []
   },
   "outputs": [
    {
     "name": "stdout",
     "output_type": "stream",
     "text": [
      "Dataset loaded successfully from /kaggle/input/data-science-salaries-2023/ds_salaries.csv\n"
     ]
    }
   ],
   "source": [
    "dataset_path = \"/kaggle/input/data-science-salaries-2023/ds_salaries.csv\"\n",
    "\n",
    "try:\n",
    "    df = pd.read_csv(dataset_path)\n",
    "    print(f\"Dataset loaded successfully from {dataset_path}\")\n",
    "except FileNotFoundError:\n",
    "    print(\"Error: Dataset file not found. Please provide the correct file path.\")\n",
    "except Exception as e:\n",
    "    print(f\"An error occurred: {e}\")"
   ]
  },
  {
   "cell_type": "markdown",
   "id": "a2ce187c",
   "metadata": {
    "papermill": {
     "duration": 0.018175,
     "end_time": "2024-04-29T22:28:49.564063",
     "exception": false,
     "start_time": "2024-04-29T22:28:49.545888",
     "status": "completed"
    },
    "tags": []
   },
   "source": [
    "# General Data Exploration"
   ]
  },
  {
   "cell_type": "code",
   "execution_count": 3,
   "id": "797b0355",
   "metadata": {
    "execution": {
     "iopub.execute_input": "2024-04-29T22:28:49.603254Z",
     "iopub.status.busy": "2024-04-29T22:28:49.602472Z",
     "iopub.status.idle": "2024-04-29T22:28:49.626463Z",
     "shell.execute_reply": "2024-04-29T22:28:49.625307Z"
    },
    "papermill": {
     "duration": 0.046462,
     "end_time": "2024-04-29T22:28:49.628968",
     "exception": false,
     "start_time": "2024-04-29T22:28:49.582506",
     "status": "completed"
    },
    "tags": []
   },
   "outputs": [
    {
     "data": {
      "text/html": [
       "<div>\n",
       "<style scoped>\n",
       "    .dataframe tbody tr th:only-of-type {\n",
       "        vertical-align: middle;\n",
       "    }\n",
       "\n",
       "    .dataframe tbody tr th {\n",
       "        vertical-align: top;\n",
       "    }\n",
       "\n",
       "    .dataframe thead th {\n",
       "        text-align: right;\n",
       "    }\n",
       "</style>\n",
       "<table border=\"1\" class=\"dataframe\">\n",
       "  <thead>\n",
       "    <tr style=\"text-align: right;\">\n",
       "      <th></th>\n",
       "      <th>work_year</th>\n",
       "      <th>experience_level</th>\n",
       "      <th>employment_type</th>\n",
       "      <th>job_title</th>\n",
       "      <th>salary</th>\n",
       "      <th>salary_currency</th>\n",
       "      <th>salary_in_usd</th>\n",
       "      <th>employee_residence</th>\n",
       "      <th>remote_ratio</th>\n",
       "      <th>company_location</th>\n",
       "      <th>company_size</th>\n",
       "    </tr>\n",
       "  </thead>\n",
       "  <tbody>\n",
       "    <tr>\n",
       "      <th>0</th>\n",
       "      <td>2023</td>\n",
       "      <td>SE</td>\n",
       "      <td>FT</td>\n",
       "      <td>Principal Data Scientist</td>\n",
       "      <td>80000</td>\n",
       "      <td>EUR</td>\n",
       "      <td>85847</td>\n",
       "      <td>ES</td>\n",
       "      <td>100</td>\n",
       "      <td>ES</td>\n",
       "      <td>L</td>\n",
       "    </tr>\n",
       "    <tr>\n",
       "      <th>1</th>\n",
       "      <td>2023</td>\n",
       "      <td>MI</td>\n",
       "      <td>CT</td>\n",
       "      <td>ML Engineer</td>\n",
       "      <td>30000</td>\n",
       "      <td>USD</td>\n",
       "      <td>30000</td>\n",
       "      <td>US</td>\n",
       "      <td>100</td>\n",
       "      <td>US</td>\n",
       "      <td>S</td>\n",
       "    </tr>\n",
       "    <tr>\n",
       "      <th>2</th>\n",
       "      <td>2023</td>\n",
       "      <td>MI</td>\n",
       "      <td>CT</td>\n",
       "      <td>ML Engineer</td>\n",
       "      <td>25500</td>\n",
       "      <td>USD</td>\n",
       "      <td>25500</td>\n",
       "      <td>US</td>\n",
       "      <td>100</td>\n",
       "      <td>US</td>\n",
       "      <td>S</td>\n",
       "    </tr>\n",
       "    <tr>\n",
       "      <th>3</th>\n",
       "      <td>2023</td>\n",
       "      <td>SE</td>\n",
       "      <td>FT</td>\n",
       "      <td>Data Scientist</td>\n",
       "      <td>175000</td>\n",
       "      <td>USD</td>\n",
       "      <td>175000</td>\n",
       "      <td>CA</td>\n",
       "      <td>100</td>\n",
       "      <td>CA</td>\n",
       "      <td>M</td>\n",
       "    </tr>\n",
       "    <tr>\n",
       "      <th>4</th>\n",
       "      <td>2023</td>\n",
       "      <td>SE</td>\n",
       "      <td>FT</td>\n",
       "      <td>Data Scientist</td>\n",
       "      <td>120000</td>\n",
       "      <td>USD</td>\n",
       "      <td>120000</td>\n",
       "      <td>CA</td>\n",
       "      <td>100</td>\n",
       "      <td>CA</td>\n",
       "      <td>M</td>\n",
       "    </tr>\n",
       "    <tr>\n",
       "      <th>5</th>\n",
       "      <td>2023</td>\n",
       "      <td>SE</td>\n",
       "      <td>FT</td>\n",
       "      <td>Applied Scientist</td>\n",
       "      <td>222200</td>\n",
       "      <td>USD</td>\n",
       "      <td>222200</td>\n",
       "      <td>US</td>\n",
       "      <td>0</td>\n",
       "      <td>US</td>\n",
       "      <td>L</td>\n",
       "    </tr>\n",
       "    <tr>\n",
       "      <th>6</th>\n",
       "      <td>2023</td>\n",
       "      <td>SE</td>\n",
       "      <td>FT</td>\n",
       "      <td>Applied Scientist</td>\n",
       "      <td>136000</td>\n",
       "      <td>USD</td>\n",
       "      <td>136000</td>\n",
       "      <td>US</td>\n",
       "      <td>0</td>\n",
       "      <td>US</td>\n",
       "      <td>L</td>\n",
       "    </tr>\n",
       "    <tr>\n",
       "      <th>7</th>\n",
       "      <td>2023</td>\n",
       "      <td>SE</td>\n",
       "      <td>FT</td>\n",
       "      <td>Data Scientist</td>\n",
       "      <td>219000</td>\n",
       "      <td>USD</td>\n",
       "      <td>219000</td>\n",
       "      <td>CA</td>\n",
       "      <td>0</td>\n",
       "      <td>CA</td>\n",
       "      <td>M</td>\n",
       "    </tr>\n",
       "    <tr>\n",
       "      <th>8</th>\n",
       "      <td>2023</td>\n",
       "      <td>SE</td>\n",
       "      <td>FT</td>\n",
       "      <td>Data Scientist</td>\n",
       "      <td>141000</td>\n",
       "      <td>USD</td>\n",
       "      <td>141000</td>\n",
       "      <td>CA</td>\n",
       "      <td>0</td>\n",
       "      <td>CA</td>\n",
       "      <td>M</td>\n",
       "    </tr>\n",
       "    <tr>\n",
       "      <th>9</th>\n",
       "      <td>2023</td>\n",
       "      <td>SE</td>\n",
       "      <td>FT</td>\n",
       "      <td>Data Scientist</td>\n",
       "      <td>147100</td>\n",
       "      <td>USD</td>\n",
       "      <td>147100</td>\n",
       "      <td>US</td>\n",
       "      <td>0</td>\n",
       "      <td>US</td>\n",
       "      <td>M</td>\n",
       "    </tr>\n",
       "  </tbody>\n",
       "</table>\n",
       "</div>"
      ],
      "text/plain": [
       "   work_year experience_level employment_type                 job_title  \\\n",
       "0       2023               SE              FT  Principal Data Scientist   \n",
       "1       2023               MI              CT               ML Engineer   \n",
       "2       2023               MI              CT               ML Engineer   \n",
       "3       2023               SE              FT            Data Scientist   \n",
       "4       2023               SE              FT            Data Scientist   \n",
       "5       2023               SE              FT         Applied Scientist   \n",
       "6       2023               SE              FT         Applied Scientist   \n",
       "7       2023               SE              FT            Data Scientist   \n",
       "8       2023               SE              FT            Data Scientist   \n",
       "9       2023               SE              FT            Data Scientist   \n",
       "\n",
       "   salary salary_currency  salary_in_usd employee_residence  remote_ratio  \\\n",
       "0   80000             EUR          85847                 ES           100   \n",
       "1   30000             USD          30000                 US           100   \n",
       "2   25500             USD          25500                 US           100   \n",
       "3  175000             USD         175000                 CA           100   \n",
       "4  120000             USD         120000                 CA           100   \n",
       "5  222200             USD         222200                 US             0   \n",
       "6  136000             USD         136000                 US             0   \n",
       "7  219000             USD         219000                 CA             0   \n",
       "8  141000             USD         141000                 CA             0   \n",
       "9  147100             USD         147100                 US             0   \n",
       "\n",
       "  company_location company_size  \n",
       "0               ES            L  \n",
       "1               US            S  \n",
       "2               US            S  \n",
       "3               CA            M  \n",
       "4               CA            M  \n",
       "5               US            L  \n",
       "6               US            L  \n",
       "7               CA            M  \n",
       "8               CA            M  \n",
       "9               US            M  "
      ]
     },
     "execution_count": 3,
     "metadata": {},
     "output_type": "execute_result"
    }
   ],
   "source": [
    "df.head(10)"
   ]
  },
  {
   "cell_type": "code",
   "execution_count": 4,
   "id": "51ef8bf1",
   "metadata": {
    "execution": {
     "iopub.execute_input": "2024-04-29T22:28:49.673192Z",
     "iopub.status.busy": "2024-04-29T22:28:49.672720Z",
     "iopub.status.idle": "2024-04-29T22:28:49.680580Z",
     "shell.execute_reply": "2024-04-29T22:28:49.679320Z"
    },
    "papermill": {
     "duration": 0.034347,
     "end_time": "2024-04-29T22:28:49.683243",
     "exception": false,
     "start_time": "2024-04-29T22:28:49.648896",
     "status": "completed"
    },
    "tags": []
   },
   "outputs": [
    {
     "data": {
      "text/plain": [
       "(3755, 11)"
      ]
     },
     "execution_count": 4,
     "metadata": {},
     "output_type": "execute_result"
    }
   ],
   "source": [
    "df.shape"
   ]
  },
  {
   "cell_type": "code",
   "execution_count": 5,
   "id": "e0c3e365",
   "metadata": {
    "execution": {
     "iopub.execute_input": "2024-04-29T22:28:49.728172Z",
     "iopub.status.busy": "2024-04-29T22:28:49.727671Z",
     "iopub.status.idle": "2024-04-29T22:28:49.759997Z",
     "shell.execute_reply": "2024-04-29T22:28:49.758819Z"
    },
    "papermill": {
     "duration": 0.057885,
     "end_time": "2024-04-29T22:28:49.762598",
     "exception": false,
     "start_time": "2024-04-29T22:28:49.704713",
     "status": "completed"
    },
    "tags": []
   },
   "outputs": [
    {
     "data": {
      "text/html": [
       "<div>\n",
       "<style scoped>\n",
       "    .dataframe tbody tr th:only-of-type {\n",
       "        vertical-align: middle;\n",
       "    }\n",
       "\n",
       "    .dataframe tbody tr th {\n",
       "        vertical-align: top;\n",
       "    }\n",
       "\n",
       "    .dataframe thead th {\n",
       "        text-align: right;\n",
       "    }\n",
       "</style>\n",
       "<table border=\"1\" class=\"dataframe\">\n",
       "  <thead>\n",
       "    <tr style=\"text-align: right;\">\n",
       "      <th></th>\n",
       "      <th>work_year</th>\n",
       "      <th>salary</th>\n",
       "      <th>salary_in_usd</th>\n",
       "      <th>remote_ratio</th>\n",
       "    </tr>\n",
       "  </thead>\n",
       "  <tbody>\n",
       "    <tr>\n",
       "      <th>count</th>\n",
       "      <td>3755.000000</td>\n",
       "      <td>3.755000e+03</td>\n",
       "      <td>3755.000000</td>\n",
       "      <td>3755.000000</td>\n",
       "    </tr>\n",
       "    <tr>\n",
       "      <th>mean</th>\n",
       "      <td>2022.373635</td>\n",
       "      <td>1.906956e+05</td>\n",
       "      <td>137570.389880</td>\n",
       "      <td>46.271638</td>\n",
       "    </tr>\n",
       "    <tr>\n",
       "      <th>std</th>\n",
       "      <td>0.691448</td>\n",
       "      <td>6.716765e+05</td>\n",
       "      <td>63055.625278</td>\n",
       "      <td>48.589050</td>\n",
       "    </tr>\n",
       "    <tr>\n",
       "      <th>min</th>\n",
       "      <td>2020.000000</td>\n",
       "      <td>6.000000e+03</td>\n",
       "      <td>5132.000000</td>\n",
       "      <td>0.000000</td>\n",
       "    </tr>\n",
       "    <tr>\n",
       "      <th>25%</th>\n",
       "      <td>2022.000000</td>\n",
       "      <td>1.000000e+05</td>\n",
       "      <td>95000.000000</td>\n",
       "      <td>0.000000</td>\n",
       "    </tr>\n",
       "    <tr>\n",
       "      <th>50%</th>\n",
       "      <td>2022.000000</td>\n",
       "      <td>1.380000e+05</td>\n",
       "      <td>135000.000000</td>\n",
       "      <td>0.000000</td>\n",
       "    </tr>\n",
       "    <tr>\n",
       "      <th>75%</th>\n",
       "      <td>2023.000000</td>\n",
       "      <td>1.800000e+05</td>\n",
       "      <td>175000.000000</td>\n",
       "      <td>100.000000</td>\n",
       "    </tr>\n",
       "    <tr>\n",
       "      <th>max</th>\n",
       "      <td>2023.000000</td>\n",
       "      <td>3.040000e+07</td>\n",
       "      <td>450000.000000</td>\n",
       "      <td>100.000000</td>\n",
       "    </tr>\n",
       "  </tbody>\n",
       "</table>\n",
       "</div>"
      ],
      "text/plain": [
       "         work_year        salary  salary_in_usd  remote_ratio\n",
       "count  3755.000000  3.755000e+03    3755.000000   3755.000000\n",
       "mean   2022.373635  1.906956e+05  137570.389880     46.271638\n",
       "std       0.691448  6.716765e+05   63055.625278     48.589050\n",
       "min    2020.000000  6.000000e+03    5132.000000      0.000000\n",
       "25%    2022.000000  1.000000e+05   95000.000000      0.000000\n",
       "50%    2022.000000  1.380000e+05  135000.000000      0.000000\n",
       "75%    2023.000000  1.800000e+05  175000.000000    100.000000\n",
       "max    2023.000000  3.040000e+07  450000.000000    100.000000"
      ]
     },
     "execution_count": 5,
     "metadata": {},
     "output_type": "execute_result"
    }
   ],
   "source": [
    "df.describe()"
   ]
  },
  {
   "cell_type": "code",
   "execution_count": 6,
   "id": "6bb61d90",
   "metadata": {
    "execution": {
     "iopub.execute_input": "2024-04-29T22:28:49.804319Z",
     "iopub.status.busy": "2024-04-29T22:28:49.802998Z",
     "iopub.status.idle": "2024-04-29T22:28:49.812158Z",
     "shell.execute_reply": "2024-04-29T22:28:49.810930Z"
    },
    "papermill": {
     "duration": 0.032309,
     "end_time": "2024-04-29T22:28:49.814510",
     "exception": false,
     "start_time": "2024-04-29T22:28:49.782201",
     "status": "completed"
    },
    "tags": []
   },
   "outputs": [
    {
     "data": {
      "text/plain": [
       "Index(['work_year', 'experience_level', 'employment_type', 'job_title',\n",
       "       'salary', 'salary_currency', 'salary_in_usd', 'employee_residence',\n",
       "       'remote_ratio', 'company_location', 'company_size'],\n",
       "      dtype='object')"
      ]
     },
     "execution_count": 6,
     "metadata": {},
     "output_type": "execute_result"
    }
   ],
   "source": [
    "df.columns"
   ]
  },
  {
   "cell_type": "code",
   "execution_count": 7,
   "id": "008f5032",
   "metadata": {
    "execution": {
     "iopub.execute_input": "2024-04-29T22:28:49.856444Z",
     "iopub.status.busy": "2024-04-29T22:28:49.855761Z",
     "iopub.status.idle": "2024-04-29T22:28:49.866848Z",
     "shell.execute_reply": "2024-04-29T22:28:49.865673Z"
    },
    "papermill": {
     "duration": 0.035238,
     "end_time": "2024-04-29T22:28:49.869435",
     "exception": false,
     "start_time": "2024-04-29T22:28:49.834197",
     "status": "completed"
    },
    "tags": []
   },
   "outputs": [
    {
     "data": {
      "text/plain": [
       "work_year             0\n",
       "experience_level      0\n",
       "employment_type       0\n",
       "job_title             0\n",
       "salary                0\n",
       "salary_currency       0\n",
       "salary_in_usd         0\n",
       "employee_residence    0\n",
       "remote_ratio          0\n",
       "company_location      0\n",
       "company_size          0\n",
       "dtype: int64"
      ]
     },
     "execution_count": 7,
     "metadata": {},
     "output_type": "execute_result"
    }
   ],
   "source": [
    "df.isnull().sum() # There are no null values in the dataset, good thing"
   ]
  },
  {
   "cell_type": "code",
   "execution_count": 8,
   "id": "45741735",
   "metadata": {
    "execution": {
     "iopub.execute_input": "2024-04-29T22:28:49.912297Z",
     "iopub.status.busy": "2024-04-29T22:28:49.911556Z",
     "iopub.status.idle": "2024-04-29T22:28:49.937505Z",
     "shell.execute_reply": "2024-04-29T22:28:49.936355Z"
    },
    "papermill": {
     "duration": 0.050577,
     "end_time": "2024-04-29T22:28:49.940246",
     "exception": false,
     "start_time": "2024-04-29T22:28:49.889669",
     "status": "completed"
    },
    "tags": []
   },
   "outputs": [
    {
     "name": "stdout",
     "output_type": "stream",
     "text": [
      "<class 'pandas.core.frame.DataFrame'>\n",
      "RangeIndex: 3755 entries, 0 to 3754\n",
      "Data columns (total 11 columns):\n",
      " #   Column              Non-Null Count  Dtype \n",
      "---  ------              --------------  ----- \n",
      " 0   work_year           3755 non-null   int64 \n",
      " 1   experience_level    3755 non-null   object\n",
      " 2   employment_type     3755 non-null   object\n",
      " 3   job_title           3755 non-null   object\n",
      " 4   salary              3755 non-null   int64 \n",
      " 5   salary_currency     3755 non-null   object\n",
      " 6   salary_in_usd       3755 non-null   int64 \n",
      " 7   employee_residence  3755 non-null   object\n",
      " 8   remote_ratio        3755 non-null   int64 \n",
      " 9   company_location    3755 non-null   object\n",
      " 10  company_size        3755 non-null   object\n",
      "dtypes: int64(4), object(7)\n",
      "memory usage: 322.8+ KB\n"
     ]
    }
   ],
   "source": [
    "df.info()"
   ]
  },
  {
   "cell_type": "markdown",
   "id": "be684fcc",
   "metadata": {
    "papermill": {
     "duration": 0.020948,
     "end_time": "2024-04-29T22:28:49.981613",
     "exception": false,
     "start_time": "2024-04-29T22:28:49.960665",
     "status": "completed"
    },
    "tags": []
   },
   "source": [
    "# EDA"
   ]
  },
  {
   "cell_type": "code",
   "execution_count": 9,
   "id": "b360734a",
   "metadata": {
    "execution": {
     "iopub.execute_input": "2024-04-29T22:28:50.027916Z",
     "iopub.status.busy": "2024-04-29T22:28:50.025391Z",
     "iopub.status.idle": "2024-04-29T22:28:50.038150Z",
     "shell.execute_reply": "2024-04-29T22:28:50.036816Z"
    },
    "papermill": {
     "duration": 0.037939,
     "end_time": "2024-04-29T22:28:50.040952",
     "exception": false,
     "start_time": "2024-04-29T22:28:50.003013",
     "status": "completed"
    },
    "tags": []
   },
   "outputs": [
    {
     "data": {
      "text/plain": [
       "job_title\n",
       "Data Engineer                          1040\n",
       "Data Scientist                          840\n",
       "Data Analyst                            612\n",
       "Machine Learning Engineer               289\n",
       "Analytics Engineer                      103\n",
       "                                       ... \n",
       "Principal Machine Learning Engineer       1\n",
       "Azure Data Engineer                       1\n",
       "Manager Data Management                   1\n",
       "Marketing Data Engineer                   1\n",
       "Finance Data Analyst                      1\n",
       "Name: count, Length: 93, dtype: int64"
      ]
     },
     "execution_count": 9,
     "metadata": {},
     "output_type": "execute_result"
    }
   ],
   "source": [
    "df['job_title'].value_counts() # wide variety of titles, must be groupped in preprocessing step"
   ]
  },
  {
   "cell_type": "code",
   "execution_count": 10,
   "id": "9d57b975",
   "metadata": {
    "execution": {
     "iopub.execute_input": "2024-04-29T22:28:50.085300Z",
     "iopub.status.busy": "2024-04-29T22:28:50.084789Z",
     "iopub.status.idle": "2024-04-29T22:28:50.485812Z",
     "shell.execute_reply": "2024-04-29T22:28:50.484885Z"
    },
    "papermill": {
     "duration": 0.427334,
     "end_time": "2024-04-29T22:28:50.488718",
     "exception": false,
     "start_time": "2024-04-29T22:28:50.061384",
     "status": "completed"
    },
    "tags": []
   },
   "outputs": [
    {
     "data": {
      "text/plain": [
       "[Text(0.5, 1.0, 'Salary Distribution By Company Size')]"
      ]
     },
     "execution_count": 10,
     "metadata": {},
     "output_type": "execute_result"
    },
    {
     "data": {
      "image/png": "[encoded data removed]",
      "text/plain": [
       "<Figure size 640x480 with 1 Axes>"
      ]
     },
     "metadata": {},
     "output_type": "display_data"
    }
   ],
   "source": [
    "# Boxplot shows us there are few outliers in the dataset\n",
    "\n",
    "sns.set(style='whitegrid')\n",
    "\n",
    "sns.boxplot(x='company_size', y='salary_in_usd', data=df).set(title='Salary Distribution By Company Size')\n",
    "\n",
    "# Looks like medium sized companies pay more"
   ]
  },
  {
   "cell_type": "code",
   "execution_count": 11,
   "id": "6e8a93dc",
   "metadata": {
    "execution": {
     "iopub.execute_input": "2024-04-29T22:28:50.536134Z",
     "iopub.status.busy": "2024-04-29T22:28:50.535680Z",
     "iopub.status.idle": "2024-04-29T22:28:50.824553Z",
     "shell.execute_reply": "2024-04-29T22:28:50.823061Z"
    },
    "papermill": {
     "duration": 0.31595,
     "end_time": "2024-04-29T22:28:50.827818",
     "exception": false,
     "start_time": "2024-04-29T22:28:50.511868",
     "status": "completed"
    },
    "tags": []
   },
   "outputs": [
    {
     "data": {
      "image/png": "[encoded data removed]",
      "text/plain": [
       "<Figure size 1000x500 with 1 Axes>"
      ]
     },
     "metadata": {},
     "output_type": "display_data"
    }
   ],
   "source": [
    "# Bar chart representing the number of individuals for each year\n",
    "\n",
    "work_year_counts = df['work_year'].value_counts()\n",
    "\n",
    "work_year_counts_sorted = work_year_counts.sort_index()\n",
    "\n",
    "color = ['lightblue', 'blue', 'purple', 'red']\n",
    "\n",
    "plt.figure(figsize=(10, 5))\n",
    "\n",
    "plt.bar(x=work_year_counts_sorted.index.astype(str), height=work_year_counts_sorted.values, data=df,\n",
    "        color=color,\n",
    "        edgecolor='black',\n",
    "        linewidth=1)\n",
    "\n",
    "plt.xlabel = 'Years'\n",
    "plt.ylabel = 'Number of Individuals'\n",
    "plt.title = 'Distribution of Individuals by Years of Work Experience'\n",
    "\n",
    "plt.show()"
   ]
  },
  {
   "cell_type": "code",
   "execution_count": 12,
   "id": "5727ce99",
   "metadata": {
    "execution": {
     "iopub.execute_input": "2024-04-29T22:28:50.871874Z",
     "iopub.status.busy": "2024-04-29T22:28:50.871458Z",
     "iopub.status.idle": "2024-04-29T22:28:52.973203Z",
     "shell.execute_reply": "2024-04-29T22:28:52.972102Z"
    },
    "papermill": {
     "duration": 2.126621,
     "end_time": "2024-04-29T22:28:52.975776",
     "exception": false,
     "start_time": "2024-04-29T22:28:50.849155",
     "status": "completed"
    },
    "tags": []
   },
   "outputs": [
    {
     "data": {
      "text/html": [
       "        <script type=\"text/javascript\">\n",
       "        window.PlotlyConfig = {MathJaxConfig: 'local'};\n",
       "        if (window.MathJax && window.MathJax.Hub && window.MathJax.Hub.Config) {window.MathJax.Hub.Config({SVG: {font: \"STIX-Web\"}});}\n",
       "        if (typeof require !== 'undefined') {\n",
       "        require.undef(\"plotly\");\n",
       "        requirejs.config({\n",
       "            paths: {\n",
       "                'plotly': ['https://cdn.plot.ly/plotly-2.27.0.min']\n",
       "            }\n",
       "        });\n",
       "        require(['plotly'], function(Plotly) {\n",
       "            window._Plotly = Plotly;\n",
       "        });\n",
       "        }\n",
       "        </script>\n",
       "        "
      ]
     },
     "metadata": {},
     "output_type": "display_data"
    },
    {
     "data": {
      "text/html": [
       "<div>                            <div id=\"a536d8a3-aaf6-46cb-abaa-91ee7d3b5967\" class=\"plotly-graph-div\" style=\"height:525px; width:100%;\"></div>            <script type=\"text/javascript\">                require([\"plotly\"], function(Plotly) {                    window.PLOTLYENV=window.PLOTLYENV || {};                                    if (document.getElementById(\"a536d8a3-aaf6-46cb-abaa-91ee7d3b5967\")) {                    Plotly.newPlot(                        \"a536d8a3-aaf6-46cb-abaa-91ee7d3b5967\",                        [{\"alignmentgroup\":\"True\",\"hovertemplate\":\"Experience Level=%{x}\\u003cbr\\u003eMean Salary (USD)=%{y}\\u003cextra\\u003e\\u003c\\u002fextra\\u003e\",\"legendgroup\":\"\",\"marker\":{\"color\":\"#636efa\",\"pattern\":{\"shape\":\"\"}},\"name\":\"\",\"offsetgroup\":\"\",\"orientation\":\"v\",\"showlegend\":false,\"textposition\":\"auto\",\"x\":[\"EN\",\"EX\",\"MI\",\"SE\"],\"xaxis\":\"x\",\"y\":[78546.284375,194930.9298245614,104525.93913043478,153051.07154213038],\"yaxis\":\"y\",\"type\":\"bar\"}],                        {\"template\":{\"data\":{\"histogram2dcontour\":[{\"type\":\"histogram2dcontour\",\"colorbar\":{\"outlinewidth\":0,\"ticks\":\"\"},\"colorscale\":[[0.0,\"#0d0887\"],[0.1111111111111111,\"#46039f\"],[0.2222222222222222,\"#7201a8\"],[0.3333333333333333,\"#9c179e\"],[0.4444444444444444,\"#bd3786\"],[0.5555555555555556,\"#d8576b\"],[0.6666666666666666,\"#ed7953\"],[0.7777777777777778,\"#fb9f3a\"],[0.8888888888888888,\"#fdca26\"],[1.0,\"#f0f921\"]]}],\"choropleth\":[{\"type\":\"choropleth\",\"colorbar\":{\"outlinewidth\":0,\"ticks\":\"\"}}],\"histogram2d\":[{\"type\":\"histogram2d\",\"colorbar\":{\"outlinewidth\":0,\"ticks\":\"\"},\"colorscale\":[[0.0,\"#0d0887\"],[0.1111111111111111,\"#46039f\"],[0.2222222222222222,\"#7201a8\"],[0.3333333333333333,\"#9c179e\"],[0.4444444444444444,\"#bd3786\"],[0.5555555555555556,\"#d8576b\"],[0.6666666666666666,\"#ed7953\"],[0.7777777777777778,\"#fb9f3a\"],[0.8888888888888888,\"#fdca26\"],[1.0,\"#f0f921\"]]}],\"heatmap\":[{\"type\":\"heatmap\",\"colorbar\":{\"outlinewidth\":0,\"ticks\":\"\"},\"colorscale\":[[0.0,\"#0d0887\"],[0.1111111111111111,\"#46039f\"],[0.2222222222222222,\"#7201a8\"],[0.3333333333333333,\"#9c179e\"],[0.4444444444444444,\"#bd3786\"],[0.5555555555555556,\"#d8576b\"],[0.6666666666666666,\"#ed7953\"],[0.7777777777777778,\"#fb9f3a\"],[0.8888888888888888,\"#fdca26\"],[1.0,\"#f0f921\"]]}],\"heatmapgl\":[{\"type\":\"heatmapgl\",\"colorbar\":{\"outlinewidth\":0,\"ticks\":\"\"},\"colorscale\":[[0.0,\"#0d0887\"],[0.1111111111111111,\"#46039f\"],[0.2222222222222222,\"#7201a8\"],[0.3333333333333333,\"#9c179e\"],[0.4444444444444444,\"#bd3786\"],[0.5555555555555556,\"#d8576b\"],[0.6666666666666666,\"#ed7953\"],[0.7777777777777778,\"#fb9f3a\"],[0.8888888888888888,\"#fdca26\"],[1.0,\"#f0f921\"]]}],\"contourcarpet\":[{\"type\":\"contourcarpet\",\"colorbar\":{\"outlinewidth\":0,\"ticks\":\"\"}}],\"contour\":[{\"type\":\"contour\",\"colorbar\":{\"outlinewidth\":0,\"ticks\":\"\"},\"colorscale\":[[0.0,\"#0d0887\"],[0.1111111111111111,\"#46039f\"],[0.2222222222222222,\"#7201a8\"],[0.3333333333333333,\"#9c179e\"],[0.4444444444444444,\"#bd3786\"],[0.5555555555555556,\"#d8576b\"],[0.6666666666666666,\"#ed7953\"],[0.7777777777777778,\"#fb9f3a\"],[0.8888888888888888,\"#fdca26\"],[1.0,\"#f0f921\"]]}],\"surface\":[{\"type\":\"surface\",\"colorbar\":{\"outlinewidth\":0,\"ticks\":\"\"},\"colorscale\":[[0.0,\"#0d0887\"],[0.1111111111111111,\"#46039f\"],[0.2222222222222222,\"#7201a8\"],[0.3333333333333333,\"#9c179e\"],[0.4444444444444444,\"#bd3786\"],[0.5555555555555556,\"#d8576b\"],[0.6666666666666666,\"#ed7953\"],[0.7777777777777778,\"#fb9f3a\"],[0.8888888888888888,\"#fdca26\"],[1.0,\"#f0f921\"]]}],\"mesh3d\":[{\"type\":\"mesh3d\",\"colorbar\":{\"outlinewidth\":0,\"ticks\":\"\"}}],\"scatter\":[{\"fillpattern\":{\"fillmode\":\"overlay\",\"size\":10,\"solidity\":0.2},\"type\":\"scatter\"}],\"parcoords\":[{\"type\":\"parcoords\",\"line\":{\"colorbar\":{\"outlinewidth\":0,\"ticks\":\"\"}}}],\"scatterpolargl\":[{\"type\":\"scatterpolargl\",\"marker\":{\"colorbar\":{\"outlinewidth\":0,\"ticks\":\"\"}}}],\"bar\":[{\"error_x\":{\"color\":\"#2a3f5f\"},\"error_y\":{\"color\":\"#2a3f5f\"},\"marker\":{\"line\":{\"color\":\"#E5ECF6\",\"width\":0.5},\"pattern\":{\"fillmode\":\"overlay\",\"size\":10,\"solidity\":0.2}},\"type\":\"bar\"}],\"scattergeo\":[{\"type\":\"scattergeo\",\"marker\":{\"colorbar\":{\"outlinewidth\":0,\"ticks\":\"\"}}}],\"scatterpolar\":[{\"type\":\"scatterpolar\",\"marker\":{\"colorbar\":{\"outlinewidth\":0,\"ticks\":\"\"}}}],\"histogram\":[{\"marker\":{\"pattern\":{\"fillmode\":\"overlay\",\"size\":10,\"solidity\":0.2}},\"type\":\"histogram\"}],\"scattergl\":[{\"type\":\"scattergl\",\"marker\":{\"colorbar\":{\"outlinewidth\":0,\"ticks\":\"\"}}}],\"scatter3d\":[{\"type\":\"scatter3d\",\"line\":{\"colorbar\":{\"outlinewidth\":0,\"ticks\":\"\"}},\"marker\":{\"colorbar\":{\"outlinewidth\":0,\"ticks\":\"\"}}}],\"scattermapbox\":[{\"type\":\"scattermapbox\",\"marker\":{\"colorbar\":{\"outlinewidth\":0,\"ticks\":\"\"}}}],\"scatterternary\":[{\"type\":\"scatterternary\",\"marker\":{\"colorbar\":{\"outlinewidth\":0,\"ticks\":\"\"}}}],\"scattercarpet\":[{\"type\":\"scattercarpet\",\"marker\":{\"colorbar\":{\"outlinewidth\":0,\"ticks\":\"\"}}}],\"carpet\":[{\"aaxis\":{\"endlinecolor\":\"#2a3f5f\",\"gridcolor\":\"white\",\"linecolor\":\"white\",\"minorgridcolor\":\"white\",\"startlinecolor\":\"#2a3f5f\"},\"baxis\":{\"endlinecolor\":\"#2a3f5f\",\"gridcolor\":\"white\",\"linecolor\":\"white\",\"minorgridcolor\":\"white\",\"startlinecolor\":\"#2a3f5f\"},\"type\":\"carpet\"}],\"table\":[{\"cells\":{\"fill\":{\"color\":\"#EBF0F8\"},\"line\":{\"color\":\"white\"}},\"header\":{\"fill\":{\"color\":\"#C8D4E3\"},\"line\":{\"color\":\"white\"}},\"type\":\"table\"}],\"barpolar\":[{\"marker\":{\"line\":{\"color\":\"#E5ECF6\",\"width\":0.5},\"pattern\":{\"fillmode\":\"overlay\",\"size\":10,\"solidity\":0.2}},\"type\":\"barpolar\"}],\"pie\":[{\"automargin\":true,\"type\":\"pie\"}]},\"layout\":{\"autotypenumbers\":\"strict\",\"colorway\":[\"#636efa\",\"#EF553B\",\"#00cc96\",\"#ab63fa\",\"#FFA15A\",\"#19d3f3\",\"#FF6692\",\"#B6E880\",\"#FF97FF\",\"#FECB52\"],\"font\":{\"color\":\"#2a3f5f\"},\"hovermode\":\"closest\",\"hoverlabel\":{\"align\":\"left\"},\"paper_bgcolor\":\"white\",\"plot_bgcolor\":\"#E5ECF6\",\"polar\":{\"bgcolor\":\"#E5ECF6\",\"angularaxis\":{\"gridcolor\":\"white\",\"linecolor\":\"white\",\"ticks\":\"\"},\"radialaxis\":{\"gridcolor\":\"white\",\"linecolor\":\"white\",\"ticks\":\"\"}},\"ternary\":{\"bgcolor\":\"#E5ECF6\",\"aaxis\":{\"gridcolor\":\"white\",\"linecolor\":\"white\",\"ticks\":\"\"},\"baxis\":{\"gridcolor\":\"white\",\"linecolor\":\"white\",\"ticks\":\"\"},\"caxis\":{\"gridcolor\":\"white\",\"linecolor\":\"white\",\"ticks\":\"\"}},\"coloraxis\":{\"colorbar\":{\"outlinewidth\":0,\"ticks\":\"\"}},\"colorscale\":{\"sequential\":[[0.0,\"#0d0887\"],[0.1111111111111111,\"#46039f\"],[0.2222222222222222,\"#7201a8\"],[0.3333333333333333,\"#9c179e\"],[0.4444444444444444,\"#bd3786\"],[0.5555555555555556,\"#d8576b\"],[0.6666666666666666,\"#ed7953\"],[0.7777777777777778,\"#fb9f3a\"],[0.8888888888888888,\"#fdca26\"],[1.0,\"#f0f921\"]],\"sequentialminus\":[[0.0,\"#0d0887\"],[0.1111111111111111,\"#46039f\"],[0.2222222222222222,\"#7201a8\"],[0.3333333333333333,\"#9c179e\"],[0.4444444444444444,\"#bd3786\"],[0.5555555555555556,\"#d8576b\"],[0.6666666666666666,\"#ed7953\"],[0.7777777777777778,\"#fb9f3a\"],[0.8888888888888888,\"#fdca26\"],[1.0,\"#f0f921\"]],\"diverging\":[[0,\"#8e0152\"],[0.1,\"#c51b7d\"],[0.2,\"#de77ae\"],[0.3,\"#f1b6da\"],[0.4,\"#fde0ef\"],[0.5,\"#f7f7f7\"],[0.6,\"#e6f5d0\"],[0.7,\"#b8e186\"],[0.8,\"#7fbc41\"],[0.9,\"#4d9221\"],[1,\"#276419\"]]},\"xaxis\":{\"gridcolor\":\"white\",\"linecolor\":\"white\",\"ticks\":\"\",\"title\":{\"standoff\":15},\"zerolinecolor\":\"white\",\"automargin\":true,\"zerolinewidth\":2},\"yaxis\":{\"gridcolor\":\"white\",\"linecolor\":\"white\",\"ticks\":\"\",\"title\":{\"standoff\":15},\"zerolinecolor\":\"white\",\"automargin\":true,\"zerolinewidth\":2},\"scene\":{\"xaxis\":{\"backgroundcolor\":\"#E5ECF6\",\"gridcolor\":\"white\",\"linecolor\":\"white\",\"showbackground\":true,\"ticks\":\"\",\"zerolinecolor\":\"white\",\"gridwidth\":2},\"yaxis\":{\"backgroundcolor\":\"#E5ECF6\",\"gridcolor\":\"white\",\"linecolor\":\"white\",\"showbackground\":true,\"ticks\":\"\",\"zerolinecolor\":\"white\",\"gridwidth\":2},\"zaxis\":{\"backgroundcolor\":\"#E5ECF6\",\"gridcolor\":\"white\",\"linecolor\":\"white\",\"showbackground\":true,\"ticks\":\"\",\"zerolinecolor\":\"white\",\"gridwidth\":2}},\"shapedefaults\":{\"line\":{\"color\":\"#2a3f5f\"}},\"annotationdefaults\":{\"arrowcolor\":\"#2a3f5f\",\"arrowhead\":0,\"arrowwidth\":1},\"geo\":{\"bgcolor\":\"white\",\"landcolor\":\"#E5ECF6\",\"subunitcolor\":\"white\",\"showland\":true,\"showlakes\":true,\"lakecolor\":\"white\"},\"title\":{\"x\":0.05},\"mapbox\":{\"style\":\"light\"}}},\"xaxis\":{\"anchor\":\"y\",\"domain\":[0.0,1.0],\"title\":{\"text\":\"Experience Level\"},\"categoryorder\":\"array\",\"categoryarray\":[\"EN\",\"MI\",\"SE\",\"EX\"]},\"yaxis\":{\"anchor\":\"x\",\"domain\":[0.0,1.0],\"title\":{\"text\":\"Mean Salary (USD)\"}},\"legend\":{\"tracegroupgap\":0},\"title\":{\"text\":\"Mean Salary Distribution by Experience Level\"},\"barmode\":\"relative\"},                        {\"responsive\": true}                    ).then(function(){\n",
       "                            \n",
       "var gd = document.getElementById('a536d8a3-aaf6-46cb-abaa-91ee7d3b5967');\n",
       "var x = new MutationObserver(function (mutations, observer) {{\n",
       "        var display = window.getComputedStyle(gd).display;\n",
       "        if (!display || display === 'none') {{\n",
       "            console.log([gd, 'removed!']);\n",
       "            Plotly.purge(gd);\n",
       "            observer.disconnect();\n",
       "        }}\n",
       "}});\n",
       "\n",
       "// Listen for the removal of the full notebook cells\n",
       "var notebookContainer = gd.closest('#notebook-container');\n",
       "if (notebookContainer) {{\n",
       "    x.observe(notebookContainer, {childList: true});\n",
       "}}\n",
       "\n",
       "// Listen for the clearing of the current output cell\n",
       "var outputEl = gd.closest('.output');\n",
       "if (outputEl) {{\n",
       "    x.observe(outputEl, {childList: true});\n",
       "}}\n",
       "\n",
       "                        })                };                });            </script>        </div>"
      ]
     },
     "metadata": {},
     "output_type": "display_data"
    }
   ],
   "source": [
    "# There is a notable correlation between experience level and average salaries\n",
    "\n",
    "mean_salary_by_experience = df.groupby('experience_level')['salary_in_usd'].mean().reset_index()\n",
    "\n",
    "fig = px.bar(mean_salary_by_experience, x='experience_level', y='salary_in_usd',\n",
    "                   labels={'experience_level': 'Experience Level', 'salary_in_usd': 'Mean Salary (USD)'},\n",
    "                   title='Mean Salary Distribution by Experience Level',\n",
    "             category_orders ={'experience_level':['EN', 'MI', 'SE', 'EX']})\n",
    "\n",
    "fig.show()"
   ]
  },
  {
   "cell_type": "code",
   "execution_count": 13,
   "id": "f0665982",
   "metadata": {
    "execution": {
     "iopub.execute_input": "2024-04-29T22:28:53.024899Z",
     "iopub.status.busy": "2024-04-29T22:28:53.024495Z",
     "iopub.status.idle": "2024-04-29T22:28:53.527174Z",
     "shell.execute_reply": "2024-04-29T22:28:53.525997Z"
    },
    "papermill": {
     "duration": 0.530924,
     "end_time": "2024-04-29T22:28:53.530106",
     "exception": false,
     "start_time": "2024-04-29T22:28:52.999182",
     "status": "completed"
    },
    "tags": []
   },
   "outputs": [
    {
     "data": {
      "text/plain": [
       "[Text(0, 0, 'On-Site'), Text(1, 0, 'Remote'), Text(2, 0, 'Hybrid')]"
      ]
     },
     "execution_count": 13,
     "metadata": {},
     "output_type": "execute_result"
    },
    {
     "data": {
      "image/png": "[encoded data removed]",
      "text/plain": [
       "<Figure size 1200x600 with 2 Axes>"
      ]
     },
     "metadata": {},
     "output_type": "display_data"
    }
   ],
   "source": [
    "# Very few hybird workers, will be combined with remote workers\n",
    "\n",
    "remote_status = df['remote_ratio'].replace({0:'On-Site', 50:'Hybrid', 100:'Remote'})\n",
    "\n",
    "remote_status_counts = remote_status.value_counts()\n",
    "\n",
    "fig, ax = plt.subplots(nrows=1, ncols=2, figsize=(12, 6), sharey=False)\n",
    "\n",
    "# Pie Plot\n",
    "ax[0].pie(remote_status_counts.values, labels=remote_status_counts.index.astype(str), autopct='%1.1f%%')\n",
    "ax[0].set_title('Distribution of Remote Status')\n",
    "\n",
    "# Bar plot\n",
    "ax[1].bar(x=remote_status_counts.index, height=remote_status_counts.values)\n",
    "ax[1].set_title('Distribution of Remote Status')\n",
    "\n",
    "ax[1].set_xticklabels(remote_status_counts.index.astype(str), rotation=45)"
   ]
  },
  {
   "cell_type": "code",
   "execution_count": 14,
   "id": "820372e2",
   "metadata": {
    "execution": {
     "iopub.execute_input": "2024-04-29T22:28:53.577975Z",
     "iopub.status.busy": "2024-04-29T22:28:53.577189Z",
     "iopub.status.idle": "2024-04-29T22:28:53.591847Z",
     "shell.execute_reply": "2024-04-29T22:28:53.590916Z"
    },
    "papermill": {
     "duration": 0.041292,
     "end_time": "2024-04-29T22:28:53.594160",
     "exception": false,
     "start_time": "2024-04-29T22:28:53.552868",
     "status": "completed"
    },
    "tags": []
   },
   "outputs": [
    {
     "name": "stdout",
     "output_type": "stream",
     "text": [
      "<class 'pandas.core.frame.DataFrame'>\n",
      "RangeIndex: 3755 entries, 0 to 3754\n",
      "Data columns (total 11 columns):\n",
      " #   Column              Non-Null Count  Dtype \n",
      "---  ------              --------------  ----- \n",
      " 0   work_year           3755 non-null   int64 \n",
      " 1   experience_level    3755 non-null   object\n",
      " 2   employment_type     3755 non-null   object\n",
      " 3   job_title           3755 non-null   object\n",
      " 4   salary              3755 non-null   int64 \n",
      " 5   salary_currency     3755 non-null   object\n",
      " 6   salary_in_usd       3755 non-null   int64 \n",
      " 7   employee_residence  3755 non-null   object\n",
      " 8   remote_ratio        3755 non-null   int64 \n",
      " 9   company_location    3755 non-null   object\n",
      " 10  company_size        3755 non-null   object\n",
      "dtypes: int64(4), object(7)\n",
      "memory usage: 322.8+ KB\n"
     ]
    }
   ],
   "source": [
    "df.info()"
   ]
  },
  {
   "cell_type": "code",
   "execution_count": 15,
   "id": "928810e3",
   "metadata": {
    "execution": {
     "iopub.execute_input": "2024-04-29T22:28:53.642942Z",
     "iopub.status.busy": "2024-04-29T22:28:53.642242Z",
     "iopub.status.idle": "2024-04-29T22:28:53.650907Z",
     "shell.execute_reply": "2024-04-29T22:28:53.649843Z"
    },
    "papermill": {
     "duration": 0.035484,
     "end_time": "2024-04-29T22:28:53.653340",
     "exception": false,
     "start_time": "2024-04-29T22:28:53.617856",
     "status": "completed"
    },
    "tags": []
   },
   "outputs": [
    {
     "data": {
      "text/plain": [
       "employment_type\n",
       "FT    3718\n",
       "PT      17\n",
       "CT      10\n",
       "FL      10\n",
       "Name: count, dtype: int64"
      ]
     },
     "execution_count": 15,
     "metadata": {},
     "output_type": "execute_result"
    }
   ],
   "source": [
    "df['employment_type'].value_counts() # High domination of full-time workers"
   ]
  },
  {
   "cell_type": "code",
   "execution_count": 16,
   "id": "99245644",
   "metadata": {
    "execution": {
     "iopub.execute_input": "2024-04-29T22:28:53.703783Z",
     "iopub.status.busy": "2024-04-29T22:28:53.703344Z",
     "iopub.status.idle": "2024-04-29T22:28:53.782376Z",
     "shell.execute_reply": "2024-04-29T22:28:53.781004Z"
    },
    "papermill": {
     "duration": 0.108214,
     "end_time": "2024-04-29T22:28:53.785180",
     "exception": false,
     "start_time": "2024-04-29T22:28:53.676966",
     "status": "completed"
    },
    "tags": []
   },
   "outputs": [
    {
     "data": {
      "text/html": [
       "<div>                            <div id=\"58fb9647-b412-40af-8acc-48af3a1ad339\" class=\"plotly-graph-div\" style=\"height:525px; width:100%;\"></div>            <script type=\"text/javascript\">                require([\"plotly\"], function(Plotly) {                    window.PLOTLYENV=window.PLOTLYENV || {};                                    if (document.getElementById(\"58fb9647-b412-40af-8acc-48af3a1ad339\")) {                    Plotly.newPlot(                        \"58fb9647-b412-40af-8acc-48af3a1ad339\",                        [{\"alignmentgroup\":\"True\",\"hovertemplate\":\"Country Code=%{x}\\u003cbr\\u003eWorkers=%{y}\\u003cextra\\u003e\\u003c\\u002fextra\\u003e\",\"legendgroup\":\"\",\"marker\":{\"color\":\"#636efa\",\"pattern\":{\"shape\":\"\"}},\"name\":\"\",\"offsetgroup\":\"\",\"orientation\":\"v\",\"showlegend\":false,\"textposition\":\"auto\",\"x\":[\"US\",\"GB\",\"CA\",\"ES\",\"IN\",\"DE\",\"FR\",\"BR\",\"AU\",\"GR\"],\"xaxis\":\"x\",\"y\":[3040,172,87,77,58,56,34,15,14,14],\"yaxis\":\"y\",\"type\":\"bar\"}],                        {\"template\":{\"data\":{\"histogram2dcontour\":[{\"type\":\"histogram2dcontour\",\"colorbar\":{\"outlinewidth\":0,\"ticks\":\"\"},\"colorscale\":[[0.0,\"#0d0887\"],[0.1111111111111111,\"#46039f\"],[0.2222222222222222,\"#7201a8\"],[0.3333333333333333,\"#9c179e\"],[0.4444444444444444,\"#bd3786\"],[0.5555555555555556,\"#d8576b\"],[0.6666666666666666,\"#ed7953\"],[0.7777777777777778,\"#fb9f3a\"],[0.8888888888888888,\"#fdca26\"],[1.0,\"#f0f921\"]]}],\"choropleth\":[{\"type\":\"choropleth\",\"colorbar\":{\"outlinewidth\":0,\"ticks\":\"\"}}],\"histogram2d\":[{\"type\":\"histogram2d\",\"colorbar\":{\"outlinewidth\":0,\"ticks\":\"\"},\"colorscale\":[[0.0,\"#0d0887\"],[0.1111111111111111,\"#46039f\"],[0.2222222222222222,\"#7201a8\"],[0.3333333333333333,\"#9c179e\"],[0.4444444444444444,\"#bd3786\"],[0.5555555555555556,\"#d8576b\"],[0.6666666666666666,\"#ed7953\"],[0.7777777777777778,\"#fb9f3a\"],[0.8888888888888888,\"#fdca26\"],[1.0,\"#f0f921\"]]}],\"heatmap\":[{\"type\":\"heatmap\",\"colorbar\":{\"outlinewidth\":0,\"ticks\":\"\"},\"colorscale\":[[0.0,\"#0d0887\"],[0.1111111111111111,\"#46039f\"],[0.2222222222222222,\"#7201a8\"],[0.3333333333333333,\"#9c179e\"],[0.4444444444444444,\"#bd3786\"],[0.5555555555555556,\"#d8576b\"],[0.6666666666666666,\"#ed7953\"],[0.7777777777777778,\"#fb9f3a\"],[0.8888888888888888,\"#fdca26\"],[1.0,\"#f0f921\"]]}],\"heatmapgl\":[{\"type\":\"heatmapgl\",\"colorbar\":{\"outlinewidth\":0,\"ticks\":\"\"},\"colorscale\":[[0.0,\"#0d0887\"],[0.1111111111111111,\"#46039f\"],[0.2222222222222222,\"#7201a8\"],[0.3333333333333333,\"#9c179e\"],[0.4444444444444444,\"#bd3786\"],[0.5555555555555556,\"#d8576b\"],[0.6666666666666666,\"#ed7953\"],[0.7777777777777778,\"#fb9f3a\"],[0.8888888888888888,\"#fdca26\"],[1.0,\"#f0f921\"]]}],\"contourcarpet\":[{\"type\":\"contourcarpet\",\"colorbar\":{\"outlinewidth\":0,\"ticks\":\"\"}}],\"contour\":[{\"type\":\"contour\",\"colorbar\":{\"outlinewidth\":0,\"ticks\":\"\"},\"colorscale\":[[0.0,\"#0d0887\"],[0.1111111111111111,\"#46039f\"],[0.2222222222222222,\"#7201a8\"],[0.3333333333333333,\"#9c179e\"],[0.4444444444444444,\"#bd3786\"],[0.5555555555555556,\"#d8576b\"],[0.6666666666666666,\"#ed7953\"],[0.7777777777777778,\"#fb9f3a\"],[0.8888888888888888,\"#fdca26\"],[1.0,\"#f0f921\"]]}],\"surface\":[{\"type\":\"surface\",\"colorbar\":{\"outlinewidth\":0,\"ticks\":\"\"},\"colorscale\":[[0.0,\"#0d0887\"],[0.1111111111111111,\"#46039f\"],[0.2222222222222222,\"#7201a8\"],[0.3333333333333333,\"#9c179e\"],[0.4444444444444444,\"#bd3786\"],[0.5555555555555556,\"#d8576b\"],[0.6666666666666666,\"#ed7953\"],[0.7777777777777778,\"#fb9f3a\"],[0.8888888888888888,\"#fdca26\"],[1.0,\"#f0f921\"]]}],\"mesh3d\":[{\"type\":\"mesh3d\",\"colorbar\":{\"outlinewidth\":0,\"ticks\":\"\"}}],\"scatter\":[{\"fillpattern\":{\"fillmode\":\"overlay\",\"size\":10,\"solidity\":0.2},\"type\":\"scatter\"}],\"parcoords\":[{\"type\":\"parcoords\",\"line\":{\"colorbar\":{\"outlinewidth\":0,\"ticks\":\"\"}}}],\"scatterpolargl\":[{\"type\":\"scatterpolargl\",\"marker\":{\"colorbar\":{\"outlinewidth\":0,\"ticks\":\"\"}}}],\"bar\":[{\"error_x\":{\"color\":\"#2a3f5f\"},\"error_y\":{\"color\":\"#2a3f5f\"},\"marker\":{\"line\":{\"color\":\"#E5ECF6\",\"width\":0.5},\"pattern\":{\"fillmode\":\"overlay\",\"size\":10,\"solidity\":0.2}},\"type\":\"bar\"}],\"scattergeo\":[{\"type\":\"scattergeo\",\"marker\":{\"colorbar\":{\"outlinewidth\":0,\"ticks\":\"\"}}}],\"scatterpolar\":[{\"type\":\"scatterpolar\",\"marker\":{\"colorbar\":{\"outlinewidth\":0,\"ticks\":\"\"}}}],\"histogram\":[{\"marker\":{\"pattern\":{\"fillmode\":\"overlay\",\"size\":10,\"solidity\":0.2}},\"type\":\"histogram\"}],\"scattergl\":[{\"type\":\"scattergl\",\"marker\":{\"colorbar\":{\"outlinewidth\":0,\"ticks\":\"\"}}}],\"scatter3d\":[{\"type\":\"scatter3d\",\"line\":{\"colorbar\":{\"outlinewidth\":0,\"ticks\":\"\"}},\"marker\":{\"colorbar\":{\"outlinewidth\":0,\"ticks\":\"\"}}}],\"scattermapbox\":[{\"type\":\"scattermapbox\",\"marker\":{\"colorbar\":{\"outlinewidth\":0,\"ticks\":\"\"}}}],\"scatterternary\":[{\"type\":\"scatterternary\",\"marker\":{\"colorbar\":{\"outlinewidth\":0,\"ticks\":\"\"}}}],\"scattercarpet\":[{\"type\":\"scattercarpet\",\"marker\":{\"colorbar\":{\"outlinewidth\":0,\"ticks\":\"\"}}}],\"carpet\":[{\"aaxis\":{\"endlinecolor\":\"#2a3f5f\",\"gridcolor\":\"white\",\"linecolor\":\"white\",\"minorgridcolor\":\"white\",\"startlinecolor\":\"#2a3f5f\"},\"baxis\":{\"endlinecolor\":\"#2a3f5f\",\"gridcolor\":\"white\",\"linecolor\":\"white\",\"minorgridcolor\":\"white\",\"startlinecolor\":\"#2a3f5f\"},\"type\":\"carpet\"}],\"table\":[{\"cells\":{\"fill\":{\"color\":\"#EBF0F8\"},\"line\":{\"color\":\"white\"}},\"header\":{\"fill\":{\"color\":\"#C8D4E3\"},\"line\":{\"color\":\"white\"}},\"type\":\"table\"}],\"barpolar\":[{\"marker\":{\"line\":{\"color\":\"#E5ECF6\",\"width\":0.5},\"pattern\":{\"fillmode\":\"overlay\",\"size\":10,\"solidity\":0.2}},\"type\":\"barpolar\"}],\"pie\":[{\"automargin\":true,\"type\":\"pie\"}]},\"layout\":{\"autotypenumbers\":\"strict\",\"colorway\":[\"#636efa\",\"#EF553B\",\"#00cc96\",\"#ab63fa\",\"#FFA15A\",\"#19d3f3\",\"#FF6692\",\"#B6E880\",\"#FF97FF\",\"#FECB52\"],\"font\":{\"color\":\"#2a3f5f\"},\"hovermode\":\"closest\",\"hoverlabel\":{\"align\":\"left\"},\"paper_bgcolor\":\"white\",\"plot_bgcolor\":\"#E5ECF6\",\"polar\":{\"bgcolor\":\"#E5ECF6\",\"angularaxis\":{\"gridcolor\":\"white\",\"linecolor\":\"white\",\"ticks\":\"\"},\"radialaxis\":{\"gridcolor\":\"white\",\"linecolor\":\"white\",\"ticks\":\"\"}},\"ternary\":{\"bgcolor\":\"#E5ECF6\",\"aaxis\":{\"gridcolor\":\"white\",\"linecolor\":\"white\",\"ticks\":\"\"},\"baxis\":{\"gridcolor\":\"white\",\"linecolor\":\"white\",\"ticks\":\"\"},\"caxis\":{\"gridcolor\":\"white\",\"linecolor\":\"white\",\"ticks\":\"\"}},\"coloraxis\":{\"colorbar\":{\"outlinewidth\":0,\"ticks\":\"\"}},\"colorscale\":{\"sequential\":[[0.0,\"#0d0887\"],[0.1111111111111111,\"#46039f\"],[0.2222222222222222,\"#7201a8\"],[0.3333333333333333,\"#9c179e\"],[0.4444444444444444,\"#bd3786\"],[0.5555555555555556,\"#d8576b\"],[0.6666666666666666,\"#ed7953\"],[0.7777777777777778,\"#fb9f3a\"],[0.8888888888888888,\"#fdca26\"],[1.0,\"#f0f921\"]],\"sequentialminus\":[[0.0,\"#0d0887\"],[0.1111111111111111,\"#46039f\"],[0.2222222222222222,\"#7201a8\"],[0.3333333333333333,\"#9c179e\"],[0.4444444444444444,\"#bd3786\"],[0.5555555555555556,\"#d8576b\"],[0.6666666666666666,\"#ed7953\"],[0.7777777777777778,\"#fb9f3a\"],[0.8888888888888888,\"#fdca26\"],[1.0,\"#f0f921\"]],\"diverging\":[[0,\"#8e0152\"],[0.1,\"#c51b7d\"],[0.2,\"#de77ae\"],[0.3,\"#f1b6da\"],[0.4,\"#fde0ef\"],[0.5,\"#f7f7f7\"],[0.6,\"#e6f5d0\"],[0.7,\"#b8e186\"],[0.8,\"#7fbc41\"],[0.9,\"#4d9221\"],[1,\"#276419\"]]},\"xaxis\":{\"gridcolor\":\"white\",\"linecolor\":\"white\",\"ticks\":\"\",\"title\":{\"standoff\":15},\"zerolinecolor\":\"white\",\"automargin\":true,\"zerolinewidth\":2},\"yaxis\":{\"gridcolor\":\"white\",\"linecolor\":\"white\",\"ticks\":\"\",\"title\":{\"standoff\":15},\"zerolinecolor\":\"white\",\"automargin\":true,\"zerolinewidth\":2},\"scene\":{\"xaxis\":{\"backgroundcolor\":\"#E5ECF6\",\"gridcolor\":\"white\",\"linecolor\":\"white\",\"showbackground\":true,\"ticks\":\"\",\"zerolinecolor\":\"white\",\"gridwidth\":2},\"yaxis\":{\"backgroundcolor\":\"#E5ECF6\",\"gridcolor\":\"white\",\"linecolor\":\"white\",\"showbackground\":true,\"ticks\":\"\",\"zerolinecolor\":\"white\",\"gridwidth\":2},\"zaxis\":{\"backgroundcolor\":\"#E5ECF6\",\"gridcolor\":\"white\",\"linecolor\":\"white\",\"showbackground\":true,\"ticks\":\"\",\"zerolinecolor\":\"white\",\"gridwidth\":2}},\"shapedefaults\":{\"line\":{\"color\":\"#2a3f5f\"}},\"annotationdefaults\":{\"arrowcolor\":\"#2a3f5f\",\"arrowhead\":0,\"arrowwidth\":1},\"geo\":{\"bgcolor\":\"white\",\"landcolor\":\"#E5ECF6\",\"subunitcolor\":\"white\",\"showland\":true,\"showlakes\":true,\"lakecolor\":\"white\"},\"title\":{\"x\":0.05},\"mapbox\":{\"style\":\"light\"}}},\"xaxis\":{\"anchor\":\"y\",\"domain\":[0.0,1.0],\"title\":{\"text\":\"Country Code\"}},\"yaxis\":{\"anchor\":\"x\",\"domain\":[0.0,1.0],\"title\":{\"text\":\"Workers\"}},\"legend\":{\"tracegroupgap\":0},\"margin\":{\"t\":60},\"barmode\":\"relative\",\"title\":{\"text\":\"Top 10 Countries of Companies\"}},                        {\"responsive\": true}                    ).then(function(){\n",
       "                            \n",
       "var gd = document.getElementById('58fb9647-b412-40af-8acc-48af3a1ad339');\n",
       "var x = new MutationObserver(function (mutations, observer) {{\n",
       "        var display = window.getComputedStyle(gd).display;\n",
       "        if (!display || display === 'none') {{\n",
       "            console.log([gd, 'removed!']);\n",
       "            Plotly.purge(gd);\n",
       "            observer.disconnect();\n",
       "        }}\n",
       "}});\n",
       "\n",
       "// Listen for the removal of the full notebook cells\n",
       "var notebookContainer = gd.closest('#notebook-container');\n",
       "if (notebookContainer) {{\n",
       "    x.observe(notebookContainer, {childList: true});\n",
       "}}\n",
       "\n",
       "// Listen for the clearing of the current output cell\n",
       "var outputEl = gd.closest('.output');\n",
       "if (outputEl) {{\n",
       "    x.observe(outputEl, {childList: true});\n",
       "}}\n",
       "\n",
       "                        })                };                });            </script>        </div>"
      ]
     },
     "metadata": {},
     "output_type": "display_data"
    }
   ],
   "source": [
    "country_counts = df['company_location'].value_counts()\n",
    "\n",
    "# Get the top 10 countries\n",
    "top_10_countries = country_counts.head(10)\n",
    "\n",
    "fig = px.bar(x=top_10_countries.index.astype(str), y=top_10_countries.values,\n",
    "             labels={'x': 'Country Code', 'y': 'Workers'})\n",
    "fig.update_layout(title='Top 10 Countries of Companies')\n",
    "\n",
    "fig.show()\n",
    "\n",
    "# Almost every company from US, will be categorized as US-other countries"
   ]
  },
  {
   "cell_type": "markdown",
   "id": "ec387e98",
   "metadata": {
    "papermill": {
     "duration": 0.026694,
     "end_time": "2024-04-29T22:28:53.835801",
     "exception": false,
     "start_time": "2024-04-29T22:28:53.809107",
     "status": "completed"
    },
    "tags": []
   },
   "source": [
    "# Preprocessing"
   ]
  },
  {
   "cell_type": "code",
   "execution_count": 17,
   "id": "c48477e8",
   "metadata": {
    "execution": {
     "iopub.execute_input": "2024-04-29T22:28:53.949942Z",
     "iopub.status.busy": "2024-04-29T22:28:53.949531Z",
     "iopub.status.idle": "2024-04-29T22:28:53.965475Z",
     "shell.execute_reply": "2024-04-29T22:28:53.963464Z"
    },
    "papermill": {
     "duration": 0.044186,
     "end_time": "2024-04-29T22:28:53.967862",
     "exception": false,
     "start_time": "2024-04-29T22:28:53.923676",
     "status": "completed"
    },
    "tags": []
   },
   "outputs": [
    {
     "name": "stdout",
     "output_type": "stream",
     "text": [
      "<class 'pandas.core.frame.DataFrame'>\n",
      "RangeIndex: 3755 entries, 0 to 3754\n",
      "Data columns (total 11 columns):\n",
      " #   Column              Non-Null Count  Dtype \n",
      "---  ------              --------------  ----- \n",
      " 0   work_year           3755 non-null   int64 \n",
      " 1   experience_level    3755 non-null   object\n",
      " 2   employment_type     3755 non-null   object\n",
      " 3   job_title           3755 non-null   object\n",
      " 4   salary              3755 non-null   int64 \n",
      " 5   salary_currency     3755 non-null   object\n",
      " 6   salary_in_usd       3755 non-null   int64 \n",
      " 7   employee_residence  3755 non-null   object\n",
      " 8   remote_ratio        3755 non-null   int64 \n",
      " 9   company_location    3755 non-null   object\n",
      " 10  company_size        3755 non-null   object\n",
      "dtypes: int64(4), object(7)\n",
      "memory usage: 322.8+ KB\n"
     ]
    }
   ],
   "source": [
    "df.info()"
   ]
  },
  {
   "cell_type": "code",
   "execution_count": 18,
   "id": "8723de99",
   "metadata": {
    "execution": {
     "iopub.execute_input": "2024-04-29T22:28:54.021621Z",
     "iopub.status.busy": "2024-04-29T22:28:54.020808Z",
     "iopub.status.idle": "2024-04-29T22:28:54.030245Z",
     "shell.execute_reply": "2024-04-29T22:28:54.028748Z"
    },
    "papermill": {
     "duration": 0.041488,
     "end_time": "2024-04-29T22:28:54.033395",
     "exception": false,
     "start_time": "2024-04-29T22:28:53.991907",
     "status": "completed"
    },
    "tags": []
   },
   "outputs": [],
   "source": [
    "# Dropping unnecessary columns\n",
    "\n",
    "df = df.drop(['salary', 'salary_currency', 'employee_residence'], axis=1)"
   ]
  },
  {
   "cell_type": "markdown",
   "id": "3ca52ac0",
   "metadata": {
    "papermill": {
     "duration": 0.023504,
     "end_time": "2024-04-29T22:28:54.081828",
     "exception": false,
     "start_time": "2024-04-29T22:28:54.058324",
     "status": "completed"
    },
    "tags": []
   },
   "source": [
    "## Remove Outliers"
   ]
  },
  {
   "cell_type": "code",
   "execution_count": 19,
   "id": "88b83558",
   "metadata": {
    "execution": {
     "iopub.execute_input": "2024-04-29T22:28:54.134469Z",
     "iopub.status.busy": "2024-04-29T22:28:54.133686Z",
     "iopub.status.idle": "2024-04-29T22:28:54.140614Z",
     "shell.execute_reply": "2024-04-29T22:28:54.139387Z"
    },
    "papermill": {
     "duration": 0.036933,
     "end_time": "2024-04-29T22:28:54.143504",
     "exception": false,
     "start_time": "2024-04-29T22:28:54.106571",
     "status": "completed"
    },
    "tags": []
   },
   "outputs": [],
   "source": [
    "def remove_outliers_from_salary(df, threshold=1.5):\n",
    "    Q1 = df['salary_in_usd'].quantile(0.25) # First quartile\n",
    "    Q3 = df['salary_in_usd'].quantile(0.75) # Third quartile\n",
    "    \n",
    "    # Calculate IQR for the salary column\n",
    "    IQR = Q3 - Q1\n",
    "    \n",
    "    lower_bound = Q1 - threshold * IQR\n",
    "    upper_bound = Q3 + threshold * IQR\n",
    "    \n",
    "    # Identify outliers in the salary column\n",
    "    outliers = (df['salary_in_usd'] < lower_bound) | (df['salary_in_usd'] > upper_bound)\n",
    "    \n",
    "    # Remove outlier rows from the DataFrame\n",
    "    df_filtered = df[~outliers]\n",
    "    \n",
    "    return df_filtered"
   ]
  },
  {
   "cell_type": "code",
   "execution_count": 20,
   "id": "e02f89be",
   "metadata": {
    "execution": {
     "iopub.execute_input": "2024-04-29T22:28:54.198857Z",
     "iopub.status.busy": "2024-04-29T22:28:54.198092Z",
     "iopub.status.idle": "2024-04-29T22:28:54.208843Z",
     "shell.execute_reply": "2024-04-29T22:28:54.207538Z"
    },
    "papermill": {
     "duration": 0.042715,
     "end_time": "2024-04-29T22:28:54.211679",
     "exception": false,
     "start_time": "2024-04-29T22:28:54.168964",
     "status": "completed"
    },
    "tags": []
   },
   "outputs": [],
   "source": [
    "df = remove_outliers_from_salary(df)"
   ]
  },
  {
   "cell_type": "markdown",
   "id": "476b1cc0",
   "metadata": {
    "papermill": {
     "duration": 0.023125,
     "end_time": "2024-04-29T22:28:54.258338",
     "exception": false,
     "start_time": "2024-04-29T22:28:54.235213",
     "status": "completed"
    },
    "tags": []
   },
   "source": [
    "## Handling Categorical Data"
   ]
  },
  {
   "cell_type": "code",
   "execution_count": 21,
   "id": "88e81ae6",
   "metadata": {
    "execution": {
     "iopub.execute_input": "2024-04-29T22:28:54.308018Z",
     "iopub.status.busy": "2024-04-29T22:28:54.306969Z",
     "iopub.status.idle": "2024-04-29T22:28:54.316602Z",
     "shell.execute_reply": "2024-04-29T22:28:54.315701Z"
    },
    "papermill": {
     "duration": 0.037315,
     "end_time": "2024-04-29T22:28:54.319224",
     "exception": false,
     "start_time": "2024-04-29T22:28:54.281909",
     "status": "completed"
    },
    "tags": []
   },
   "outputs": [],
   "source": [
    "# Encoded the 'US' as 1 and 0 for others\n",
    "df['company_location'] = df['company_location'].map(lambda x: 1 if x == 'US' else 0)"
   ]
  },
  {
   "cell_type": "code",
   "execution_count": 22,
   "id": "0d778a9e",
   "metadata": {
    "execution": {
     "iopub.execute_input": "2024-04-29T22:28:54.369428Z",
     "iopub.status.busy": "2024-04-29T22:28:54.368984Z",
     "iopub.status.idle": "2024-04-29T22:28:54.376139Z",
     "shell.execute_reply": "2024-04-29T22:28:54.374940Z"
    },
    "papermill": {
     "duration": 0.035121,
     "end_time": "2024-04-29T22:28:54.378539",
     "exception": false,
     "start_time": "2024-04-29T22:28:54.343418",
     "status": "completed"
    },
    "tags": []
   },
   "outputs": [],
   "source": [
    "# Encoded the experience level column\n",
    "df['experience_level'] = df['experience_level'].map({'EN': 0, 'MI': 1, 'SE': 2, 'EX': 3})"
   ]
  },
  {
   "cell_type": "code",
   "execution_count": 23,
   "id": "88542967",
   "metadata": {
    "execution": {
     "iopub.execute_input": "2024-04-29T22:28:54.429341Z",
     "iopub.status.busy": "2024-04-29T22:28:54.428905Z",
     "iopub.status.idle": "2024-04-29T22:28:54.438508Z",
     "shell.execute_reply": "2024-04-29T22:28:54.437236Z"
    },
    "papermill": {
     "duration": 0.038803,
     "end_time": "2024-04-29T22:28:54.440994",
     "exception": false,
     "start_time": "2024-04-29T22:28:54.402191",
     "status": "completed"
    },
    "tags": []
   },
   "outputs": [],
   "source": [
    "# Only keep full-time workers' data\n",
    "\n",
    "df = df[df['employment_type'] == 'FT']\n",
    "\n",
    "df = df.drop(['employment_type'], axis=1) # Since there is only one employment type we drop the columns"
   ]
  },
  {
   "cell_type": "code",
   "execution_count": 24,
   "id": "c6f42c0c",
   "metadata": {
    "execution": {
     "iopub.execute_input": "2024-04-29T22:28:54.491619Z",
     "iopub.status.busy": "2024-04-29T22:28:54.491223Z",
     "iopub.status.idle": "2024-04-29T22:28:54.498066Z",
     "shell.execute_reply": "2024-04-29T22:28:54.496944Z"
    },
    "papermill": {
     "duration": 0.035001,
     "end_time": "2024-04-29T22:28:54.500555",
     "exception": false,
     "start_time": "2024-04-29T22:28:54.465554",
     "status": "completed"
    },
    "tags": []
   },
   "outputs": [],
   "source": [
    "# Encoded the company size column\n",
    "\n",
    "df['company_size'] = df['company_size'].map({'S': 0, 'M': 1, 'L': 2})"
   ]
  },
  {
   "cell_type": "code",
   "execution_count": 25,
   "id": "a642f00c",
   "metadata": {
    "execution": {
     "iopub.execute_input": "2024-04-29T22:28:54.550620Z",
     "iopub.status.busy": "2024-04-29T22:28:54.550225Z",
     "iopub.status.idle": "2024-04-29T22:28:54.559017Z",
     "shell.execute_reply": "2024-04-29T22:28:54.558073Z"
    },
    "papermill": {
     "duration": 0.037168,
     "end_time": "2024-04-29T22:28:54.561558",
     "exception": false,
     "start_time": "2024-04-29T22:28:54.524390",
     "status": "completed"
    },
    "tags": []
   },
   "outputs": [],
   "source": [
    "# Encoded the work year column as 2023 for the year 2023, and as 2022 for all other years\n",
    "\n",
    "df['work_year'] = df['work_year'].map(lambda x: 2023 if x == 2023 else 2022)"
   ]
  },
  {
   "cell_type": "code",
   "execution_count": 26,
   "id": "3e4165d1",
   "metadata": {
    "execution": {
     "iopub.execute_input": "2024-04-29T22:28:54.613183Z",
     "iopub.status.busy": "2024-04-29T22:28:54.610684Z",
     "iopub.status.idle": "2024-04-29T22:28:54.634595Z",
     "shell.execute_reply": "2024-04-29T22:28:54.633432Z"
    },
    "papermill": {
     "duration": 0.05141,
     "end_time": "2024-04-29T22:28:54.637160",
     "exception": false,
     "start_time": "2024-04-29T22:28:54.585750",
     "status": "completed"
    },
    "tags": []
   },
   "outputs": [
    {
     "data": {
      "text/plain": [
       "job_title_classified\n",
       "Data Engineer      1593\n",
       "Data Scientist     1023\n",
       "Data Analyst        669\n",
       "Manager             106\n",
       "Data Architect      103\n",
       "Lead                 63\n",
       "Developer            44\n",
       "Consultant           25\n",
       "Other                21\n",
       "Data Researcher       9\n",
       "Name: count, dtype: int64"
      ]
     },
     "execution_count": 26,
     "metadata": {},
     "output_type": "execute_result"
    }
   ],
   "source": [
    "# Too many job titles, they must be grouped under more general titles\n",
    "\n",
    "def group_job_title(df):\n",
    "    job_title_classified = []\n",
    "    for title in df['job_title']:\n",
    "        if 'lead' in title.lower() or 'head' in title.lower() or 'director' in title.lower():\n",
    "            job_title_classified.append('Lead')\n",
    "        elif 'manager' in title.lower():\n",
    "            job_title_classified.append('Manager')\n",
    "        elif 'scientist' in title.lower():\n",
    "            job_title_classified.append('Data Scientist')\n",
    "        elif 'analyst' in title.lower():\n",
    "            job_title_classified.append('Data Analyst')\n",
    "        elif 'engineer' in title.lower():\n",
    "            job_title_classified.append('Data Engineer')\n",
    "        elif 'architect' in title.lower():\n",
    "            job_title_classified.append('Data Architect')\n",
    "        elif 'developer' in title.lower() or 'technician' in title.lower() or 'programmer' in title.lower():\n",
    "            job_title_classified.append('Developer')\n",
    "        elif 'researcher' in title.lower():\n",
    "            job_title_classified.append('Data Researcher')\n",
    "        elif 'consultant' in title.lower():\n",
    "            job_title_classified.append('Consultant')\n",
    "        else:\n",
    "            job_title_classified.append('Other')\n",
    "    \n",
    "    df['job_title_classified'] = job_title_classified\n",
    "            \n",
    "group_job_title(df)\n",
    "\n",
    "df['job_title_classified'].value_counts()"
   ]
  },
  {
   "cell_type": "code",
   "execution_count": 27,
   "id": "8b8e5280",
   "metadata": {
    "execution": {
     "iopub.execute_input": "2024-04-29T22:28:54.687201Z",
     "iopub.status.busy": "2024-04-29T22:28:54.686715Z",
     "iopub.status.idle": "2024-04-29T22:28:54.761429Z",
     "shell.execute_reply": "2024-04-29T22:28:54.760057Z"
    },
    "papermill": {
     "duration": 0.102695,
     "end_time": "2024-04-29T22:28:54.764027",
     "exception": false,
     "start_time": "2024-04-29T22:28:54.661332",
     "status": "completed"
    },
    "tags": []
   },
   "outputs": [
    {
     "data": {
      "text/html": [
       "<div>                            <div id=\"90435347-d846-4cfe-85a4-3e6ac78487d3\" class=\"plotly-graph-div\" style=\"height:525px; width:100%;\"></div>            <script type=\"text/javascript\">                require([\"plotly\"], function(Plotly) {                    window.PLOTLYENV=window.PLOTLYENV || {};                                    if (document.getElementById(\"90435347-d846-4cfe-85a4-3e6ac78487d3\")) {                    Plotly.newPlot(                        \"90435347-d846-4cfe-85a4-3e6ac78487d3\",                        [{\"alignmentgroup\":\"True\",\"hovertemplate\":\"x=%{x}\\u003cbr\\u003ey=%{y}\\u003cextra\\u003e\\u003c\\u002fextra\\u003e\",\"legendgroup\":\"\",\"marker\":{\"color\":\"#636efa\",\"pattern\":{\"shape\":\"\"}},\"name\":\"\",\"offsetgroup\":\"\",\"orientation\":\"v\",\"showlegend\":false,\"textposition\":\"auto\",\"x\":[\"Data Architect\",\"Manager\",\"Data Engineer\",\"Data Scientist\",\"Lead\",\"Other\",\"Developer\",\"Data Analyst\",\"Consultant\",\"Data Researcher\"],\"xaxis\":\"x\",\"y\":[156807.47572815535,151835.84905660377,142774.5335844319,141635.85923753664,136705.38095238095,111099.66666666667,110225.0,105270.42152466367,88051.28,87626.77777777778],\"yaxis\":\"y\",\"type\":\"bar\"}],                        {\"template\":{\"data\":{\"histogram2dcontour\":[{\"type\":\"histogram2dcontour\",\"colorbar\":{\"outlinewidth\":0,\"ticks\":\"\"},\"colorscale\":[[0.0,\"#0d0887\"],[0.1111111111111111,\"#46039f\"],[0.2222222222222222,\"#7201a8\"],[0.3333333333333333,\"#9c179e\"],[0.4444444444444444,\"#bd3786\"],[0.5555555555555556,\"#d8576b\"],[0.6666666666666666,\"#ed7953\"],[0.7777777777777778,\"#fb9f3a\"],[0.8888888888888888,\"#fdca26\"],[1.0,\"#f0f921\"]]}],\"choropleth\":[{\"type\":\"choropleth\",\"colorbar\":{\"outlinewidth\":0,\"ticks\":\"\"}}],\"histogram2d\":[{\"type\":\"histogram2d\",\"colorbar\":{\"outlinewidth\":0,\"ticks\":\"\"},\"colorscale\":[[0.0,\"#0d0887\"],[0.1111111111111111,\"#46039f\"],[0.2222222222222222,\"#7201a8\"],[0.3333333333333333,\"#9c179e\"],[0.4444444444444444,\"#bd3786\"],[0.5555555555555556,\"#d8576b\"],[0.6666666666666666,\"#ed7953\"],[0.7777777777777778,\"#fb9f3a\"],[0.8888888888888888,\"#fdca26\"],[1.0,\"#f0f921\"]]}],\"heatmap\":[{\"type\":\"heatmap\",\"colorbar\":{\"outlinewidth\":0,\"ticks\":\"\"},\"colorscale\":[[0.0,\"#0d0887\"],[0.1111111111111111,\"#46039f\"],[0.2222222222222222,\"#7201a8\"],[0.3333333333333333,\"#9c179e\"],[0.4444444444444444,\"#bd3786\"],[0.5555555555555556,\"#d8576b\"],[0.6666666666666666,\"#ed7953\"],[0.7777777777777778,\"#fb9f3a\"],[0.8888888888888888,\"#fdca26\"],[1.0,\"#f0f921\"]]}],\"heatmapgl\":[{\"type\":\"heatmapgl\",\"colorbar\":{\"outlinewidth\":0,\"ticks\":\"\"},\"colorscale\":[[0.0,\"#0d0887\"],[0.1111111111111111,\"#46039f\"],[0.2222222222222222,\"#7201a8\"],[0.3333333333333333,\"#9c179e\"],[0.4444444444444444,\"#bd3786\"],[0.5555555555555556,\"#d8576b\"],[0.6666666666666666,\"#ed7953\"],[0.7777777777777778,\"#fb9f3a\"],[0.8888888888888888,\"#fdca26\"],[1.0,\"#f0f921\"]]}],\"contourcarpet\":[{\"type\":\"contourcarpet\",\"colorbar\":{\"outlinewidth\":0,\"ticks\":\"\"}}],\"contour\":[{\"type\":\"contour\",\"colorbar\":{\"outlinewidth\":0,\"ticks\":\"\"},\"colorscale\":[[0.0,\"#0d0887\"],[0.1111111111111111,\"#46039f\"],[0.2222222222222222,\"#7201a8\"],[0.3333333333333333,\"#9c179e\"],[0.4444444444444444,\"#bd3786\"],[0.5555555555555556,\"#d8576b\"],[0.6666666666666666,\"#ed7953\"],[0.7777777777777778,\"#fb9f3a\"],[0.8888888888888888,\"#fdca26\"],[1.0,\"#f0f921\"]]}],\"surface\":[{\"type\":\"surface\",\"colorbar\":{\"outlinewidth\":0,\"ticks\":\"\"},\"colorscale\":[[0.0,\"#0d0887\"],[0.1111111111111111,\"#46039f\"],[0.2222222222222222,\"#7201a8\"],[0.3333333333333333,\"#9c179e\"],[0.4444444444444444,\"#bd3786\"],[0.5555555555555556,\"#d8576b\"],[0.6666666666666666,\"#ed7953\"],[0.7777777777777778,\"#fb9f3a\"],[0.8888888888888888,\"#fdca26\"],[1.0,\"#f0f921\"]]}],\"mesh3d\":[{\"type\":\"mesh3d\",\"colorbar\":{\"outlinewidth\":0,\"ticks\":\"\"}}],\"scatter\":[{\"fillpattern\":{\"fillmode\":\"overlay\",\"size\":10,\"solidity\":0.2},\"type\":\"scatter\"}],\"parcoords\":[{\"type\":\"parcoords\",\"line\":{\"colorbar\":{\"outlinewidth\":0,\"ticks\":\"\"}}}],\"scatterpolargl\":[{\"type\":\"scatterpolargl\",\"marker\":{\"colorbar\":{\"outlinewidth\":0,\"ticks\":\"\"}}}],\"bar\":[{\"error_x\":{\"color\":\"#2a3f5f\"},\"error_y\":{\"color\":\"#2a3f5f\"},\"marker\":{\"line\":{\"color\":\"#E5ECF6\",\"width\":0.5},\"pattern\":{\"fillmode\":\"overlay\",\"size\":10,\"solidity\":0.2}},\"type\":\"bar\"}],\"scattergeo\":[{\"type\":\"scattergeo\",\"marker\":{\"colorbar\":{\"outlinewidth\":0,\"ticks\":\"\"}}}],\"scatterpolar\":[{\"type\":\"scatterpolar\",\"marker\":{\"colorbar\":{\"outlinewidth\":0,\"ticks\":\"\"}}}],\"histogram\":[{\"marker\":{\"pattern\":{\"fillmode\":\"overlay\",\"size\":10,\"solidity\":0.2}},\"type\":\"histogram\"}],\"scattergl\":[{\"type\":\"scattergl\",\"marker\":{\"colorbar\":{\"outlinewidth\":0,\"ticks\":\"\"}}}],\"scatter3d\":[{\"type\":\"scatter3d\",\"line\":{\"colorbar\":{\"outlinewidth\":0,\"ticks\":\"\"}},\"marker\":{\"colorbar\":{\"outlinewidth\":0,\"ticks\":\"\"}}}],\"scattermapbox\":[{\"type\":\"scattermapbox\",\"marker\":{\"colorbar\":{\"outlinewidth\":0,\"ticks\":\"\"}}}],\"scatterternary\":[{\"type\":\"scatterternary\",\"marker\":{\"colorbar\":{\"outlinewidth\":0,\"ticks\":\"\"}}}],\"scattercarpet\":[{\"type\":\"scattercarpet\",\"marker\":{\"colorbar\":{\"outlinewidth\":0,\"ticks\":\"\"}}}],\"carpet\":[{\"aaxis\":{\"endlinecolor\":\"#2a3f5f\",\"gridcolor\":\"white\",\"linecolor\":\"white\",\"minorgridcolor\":\"white\",\"startlinecolor\":\"#2a3f5f\"},\"baxis\":{\"endlinecolor\":\"#2a3f5f\",\"gridcolor\":\"white\",\"linecolor\":\"white\",\"minorgridcolor\":\"white\",\"startlinecolor\":\"#2a3f5f\"},\"type\":\"carpet\"}],\"table\":[{\"cells\":{\"fill\":{\"color\":\"#EBF0F8\"},\"line\":{\"color\":\"white\"}},\"header\":{\"fill\":{\"color\":\"#C8D4E3\"},\"line\":{\"color\":\"white\"}},\"type\":\"table\"}],\"barpolar\":[{\"marker\":{\"line\":{\"color\":\"#E5ECF6\",\"width\":0.5},\"pattern\":{\"fillmode\":\"overlay\",\"size\":10,\"solidity\":0.2}},\"type\":\"barpolar\"}],\"pie\":[{\"automargin\":true,\"type\":\"pie\"}]},\"layout\":{\"autotypenumbers\":\"strict\",\"colorway\":[\"#636efa\",\"#EF553B\",\"#00cc96\",\"#ab63fa\",\"#FFA15A\",\"#19d3f3\",\"#FF6692\",\"#B6E880\",\"#FF97FF\",\"#FECB52\"],\"font\":{\"color\":\"#2a3f5f\"},\"hovermode\":\"closest\",\"hoverlabel\":{\"align\":\"left\"},\"paper_bgcolor\":\"white\",\"plot_bgcolor\":\"#E5ECF6\",\"polar\":{\"bgcolor\":\"#E5ECF6\",\"angularaxis\":{\"gridcolor\":\"white\",\"linecolor\":\"white\",\"ticks\":\"\"},\"radialaxis\":{\"gridcolor\":\"white\",\"linecolor\":\"white\",\"ticks\":\"\"}},\"ternary\":{\"bgcolor\":\"#E5ECF6\",\"aaxis\":{\"gridcolor\":\"white\",\"linecolor\":\"white\",\"ticks\":\"\"},\"baxis\":{\"gridcolor\":\"white\",\"linecolor\":\"white\",\"ticks\":\"\"},\"caxis\":{\"gridcolor\":\"white\",\"linecolor\":\"white\",\"ticks\":\"\"}},\"coloraxis\":{\"colorbar\":{\"outlinewidth\":0,\"ticks\":\"\"}},\"colorscale\":{\"sequential\":[[0.0,\"#0d0887\"],[0.1111111111111111,\"#46039f\"],[0.2222222222222222,\"#7201a8\"],[0.3333333333333333,\"#9c179e\"],[0.4444444444444444,\"#bd3786\"],[0.5555555555555556,\"#d8576b\"],[0.6666666666666666,\"#ed7953\"],[0.7777777777777778,\"#fb9f3a\"],[0.8888888888888888,\"#fdca26\"],[1.0,\"#f0f921\"]],\"sequentialminus\":[[0.0,\"#0d0887\"],[0.1111111111111111,\"#46039f\"],[0.2222222222222222,\"#7201a8\"],[0.3333333333333333,\"#9c179e\"],[0.4444444444444444,\"#bd3786\"],[0.5555555555555556,\"#d8576b\"],[0.6666666666666666,\"#ed7953\"],[0.7777777777777778,\"#fb9f3a\"],[0.8888888888888888,\"#fdca26\"],[1.0,\"#f0f921\"]],\"diverging\":[[0,\"#8e0152\"],[0.1,\"#c51b7d\"],[0.2,\"#de77ae\"],[0.3,\"#f1b6da\"],[0.4,\"#fde0ef\"],[0.5,\"#f7f7f7\"],[0.6,\"#e6f5d0\"],[0.7,\"#b8e186\"],[0.8,\"#7fbc41\"],[0.9,\"#4d9221\"],[1,\"#276419\"]]},\"xaxis\":{\"gridcolor\":\"white\",\"linecolor\":\"white\",\"ticks\":\"\",\"title\":{\"standoff\":15},\"zerolinecolor\":\"white\",\"automargin\":true,\"zerolinewidth\":2},\"yaxis\":{\"gridcolor\":\"white\",\"linecolor\":\"white\",\"ticks\":\"\",\"title\":{\"standoff\":15},\"zerolinecolor\":\"white\",\"automargin\":true,\"zerolinewidth\":2},\"scene\":{\"xaxis\":{\"backgroundcolor\":\"#E5ECF6\",\"gridcolor\":\"white\",\"linecolor\":\"white\",\"showbackground\":true,\"ticks\":\"\",\"zerolinecolor\":\"white\",\"gridwidth\":2},\"yaxis\":{\"backgroundcolor\":\"#E5ECF6\",\"gridcolor\":\"white\",\"linecolor\":\"white\",\"showbackground\":true,\"ticks\":\"\",\"zerolinecolor\":\"white\",\"gridwidth\":2},\"zaxis\":{\"backgroundcolor\":\"#E5ECF6\",\"gridcolor\":\"white\",\"linecolor\":\"white\",\"showbackground\":true,\"ticks\":\"\",\"zerolinecolor\":\"white\",\"gridwidth\":2}},\"shapedefaults\":{\"line\":{\"color\":\"#2a3f5f\"}},\"annotationdefaults\":{\"arrowcolor\":\"#2a3f5f\",\"arrowhead\":0,\"arrowwidth\":1},\"geo\":{\"bgcolor\":\"white\",\"landcolor\":\"#E5ECF6\",\"subunitcolor\":\"white\",\"showland\":true,\"showlakes\":true,\"lakecolor\":\"white\"},\"title\":{\"x\":0.05},\"mapbox\":{\"style\":\"light\"}}},\"xaxis\":{\"anchor\":\"y\",\"domain\":[0.0,1.0],\"title\":{\"text\":\"x\"}},\"yaxis\":{\"anchor\":\"x\",\"domain\":[0.0,1.0],\"title\":{\"text\":\"y\"}},\"legend\":{\"tracegroupgap\":0},\"margin\":{\"t\":60},\"barmode\":\"relative\"},                        {\"responsive\": true}                    ).then(function(){\n",
       "                            \n",
       "var gd = document.getElementById('90435347-d846-4cfe-85a4-3e6ac78487d3');\n",
       "var x = new MutationObserver(function (mutations, observer) {{\n",
       "        var display = window.getComputedStyle(gd).display;\n",
       "        if (!display || display === 'none') {{\n",
       "            console.log([gd, 'removed!']);\n",
       "            Plotly.purge(gd);\n",
       "            observer.disconnect();\n",
       "        }}\n",
       "}});\n",
       "\n",
       "// Listen for the removal of the full notebook cells\n",
       "var notebookContainer = gd.closest('#notebook-container');\n",
       "if (notebookContainer) {{\n",
       "    x.observe(notebookContainer, {childList: true});\n",
       "}}\n",
       "\n",
       "// Listen for the clearing of the current output cell\n",
       "var outputEl = gd.closest('.output');\n",
       "if (outputEl) {{\n",
       "    x.observe(outputEl, {childList: true});\n",
       "}}\n",
       "\n",
       "                        })                };                });            </script>        </div>"
      ]
     },
     "metadata": {},
     "output_type": "display_data"
    }
   ],
   "source": [
    "# Job titles by average salary\n",
    "\n",
    "mean_salary_by_job_title = df.groupby('job_title_classified')['salary_in_usd'].mean().sort_values(ascending=False)\n",
    "\n",
    "fig = px.bar(df, x=mean_salary_by_job_title.index, y=mean_salary_by_job_title.values)\n",
    "\n",
    "fig.show()"
   ]
  },
  {
   "cell_type": "code",
   "execution_count": 28,
   "id": "d749476f",
   "metadata": {
    "execution": {
     "iopub.execute_input": "2024-04-29T22:28:54.816170Z",
     "iopub.status.busy": "2024-04-29T22:28:54.815715Z",
     "iopub.status.idle": "2024-04-29T22:28:54.830872Z",
     "shell.execute_reply": "2024-04-29T22:28:54.829783Z"
    },
    "papermill": {
     "duration": 0.044605,
     "end_time": "2024-04-29T22:28:54.833150",
     "exception": false,
     "start_time": "2024-04-29T22:28:54.788545",
     "status": "completed"
    },
    "tags": []
   },
   "outputs": [
    {
     "data": {
      "text/html": [
       "<div>\n",
       "<style scoped>\n",
       "    .dataframe tbody tr th:only-of-type {\n",
       "        vertical-align: middle;\n",
       "    }\n",
       "\n",
       "    .dataframe tbody tr th {\n",
       "        vertical-align: top;\n",
       "    }\n",
       "\n",
       "    .dataframe thead th {\n",
       "        text-align: right;\n",
       "    }\n",
       "</style>\n",
       "<table border=\"1\" class=\"dataframe\">\n",
       "  <thead>\n",
       "    <tr style=\"text-align: right;\">\n",
       "      <th></th>\n",
       "      <th>work_year</th>\n",
       "      <th>experience_level</th>\n",
       "      <th>salary_in_usd</th>\n",
       "      <th>remote_ratio</th>\n",
       "      <th>company_location</th>\n",
       "      <th>company_size</th>\n",
       "      <th>job_title_classified</th>\n",
       "    </tr>\n",
       "  </thead>\n",
       "  <tbody>\n",
       "    <tr>\n",
       "      <th>0</th>\n",
       "      <td>2023</td>\n",
       "      <td>2</td>\n",
       "      <td>85847</td>\n",
       "      <td>100</td>\n",
       "      <td>0</td>\n",
       "      <td>2</td>\n",
       "      <td>Data Scientist</td>\n",
       "    </tr>\n",
       "    <tr>\n",
       "      <th>3</th>\n",
       "      <td>2023</td>\n",
       "      <td>2</td>\n",
       "      <td>175000</td>\n",
       "      <td>100</td>\n",
       "      <td>0</td>\n",
       "      <td>1</td>\n",
       "      <td>Data Scientist</td>\n",
       "    </tr>\n",
       "    <tr>\n",
       "      <th>4</th>\n",
       "      <td>2023</td>\n",
       "      <td>2</td>\n",
       "      <td>120000</td>\n",
       "      <td>100</td>\n",
       "      <td>0</td>\n",
       "      <td>1</td>\n",
       "      <td>Data Scientist</td>\n",
       "    </tr>\n",
       "    <tr>\n",
       "      <th>5</th>\n",
       "      <td>2023</td>\n",
       "      <td>2</td>\n",
       "      <td>222200</td>\n",
       "      <td>0</td>\n",
       "      <td>1</td>\n",
       "      <td>2</td>\n",
       "      <td>Data Scientist</td>\n",
       "    </tr>\n",
       "    <tr>\n",
       "      <th>6</th>\n",
       "      <td>2023</td>\n",
       "      <td>2</td>\n",
       "      <td>136000</td>\n",
       "      <td>0</td>\n",
       "      <td>1</td>\n",
       "      <td>2</td>\n",
       "      <td>Data Scientist</td>\n",
       "    </tr>\n",
       "  </tbody>\n",
       "</table>\n",
       "</div>"
      ],
      "text/plain": [
       "   work_year  experience_level  salary_in_usd  remote_ratio  company_location  \\\n",
       "0       2023                 2          85847           100                 0   \n",
       "3       2023                 2         175000           100                 0   \n",
       "4       2023                 2         120000           100                 0   \n",
       "5       2023                 2         222200             0                 1   \n",
       "6       2023                 2         136000             0                 1   \n",
       "\n",
       "   company_size job_title_classified  \n",
       "0             2       Data Scientist  \n",
       "3             1       Data Scientist  \n",
       "4             1       Data Scientist  \n",
       "5             2       Data Scientist  \n",
       "6             2       Data Scientist  "
      ]
     },
     "execution_count": 28,
     "metadata": {},
     "output_type": "execute_result"
    }
   ],
   "source": [
    "df = df.drop(['job_title'], axis=1) # No need that column anymore\n",
    "\n",
    "df.head()"
   ]
  },
  {
   "cell_type": "code",
   "execution_count": 29,
   "id": "043fdf5d",
   "metadata": {
    "execution": {
     "iopub.execute_input": "2024-04-29T22:28:54.885918Z",
     "iopub.status.busy": "2024-04-29T22:28:54.885264Z",
     "iopub.status.idle": "2024-04-29T22:28:54.904229Z",
     "shell.execute_reply": "2024-04-29T22:28:54.902875Z"
    },
    "papermill": {
     "duration": 0.049364,
     "end_time": "2024-04-29T22:28:54.906867",
     "exception": false,
     "start_time": "2024-04-29T22:28:54.857503",
     "status": "completed"
    },
    "tags": []
   },
   "outputs": [
    {
     "data": {
      "text/html": [
       "<div>\n",
       "<style scoped>\n",
       "    .dataframe tbody tr th:only-of-type {\n",
       "        vertical-align: middle;\n",
       "    }\n",
       "\n",
       "    .dataframe tbody tr th {\n",
       "        vertical-align: top;\n",
       "    }\n",
       "\n",
       "    .dataframe thead th {\n",
       "        text-align: right;\n",
       "    }\n",
       "</style>\n",
       "<table border=\"1\" class=\"dataframe\">\n",
       "  <thead>\n",
       "    <tr style=\"text-align: right;\">\n",
       "      <th></th>\n",
       "      <th>work_year</th>\n",
       "      <th>experience_level</th>\n",
       "      <th>salary_in_usd</th>\n",
       "      <th>remote_ratio</th>\n",
       "      <th>company_location</th>\n",
       "      <th>company_size</th>\n",
       "      <th>job_title_classified</th>\n",
       "    </tr>\n",
       "  </thead>\n",
       "  <tbody>\n",
       "    <tr>\n",
       "      <th>0</th>\n",
       "      <td>2023</td>\n",
       "      <td>2</td>\n",
       "      <td>85847</td>\n",
       "      <td>100</td>\n",
       "      <td>0</td>\n",
       "      <td>2</td>\n",
       "      <td>5.0</td>\n",
       "    </tr>\n",
       "    <tr>\n",
       "      <th>3</th>\n",
       "      <td>2023</td>\n",
       "      <td>2</td>\n",
       "      <td>175000</td>\n",
       "      <td>100</td>\n",
       "      <td>0</td>\n",
       "      <td>1</td>\n",
       "      <td>5.0</td>\n",
       "    </tr>\n",
       "    <tr>\n",
       "      <th>4</th>\n",
       "      <td>2023</td>\n",
       "      <td>2</td>\n",
       "      <td>120000</td>\n",
       "      <td>100</td>\n",
       "      <td>0</td>\n",
       "      <td>1</td>\n",
       "      <td>5.0</td>\n",
       "    </tr>\n",
       "    <tr>\n",
       "      <th>5</th>\n",
       "      <td>2023</td>\n",
       "      <td>2</td>\n",
       "      <td>222200</td>\n",
       "      <td>0</td>\n",
       "      <td>1</td>\n",
       "      <td>2</td>\n",
       "      <td>5.0</td>\n",
       "    </tr>\n",
       "    <tr>\n",
       "      <th>6</th>\n",
       "      <td>2023</td>\n",
       "      <td>2</td>\n",
       "      <td>136000</td>\n",
       "      <td>0</td>\n",
       "      <td>1</td>\n",
       "      <td>2</td>\n",
       "      <td>5.0</td>\n",
       "    </tr>\n",
       "  </tbody>\n",
       "</table>\n",
       "</div>"
      ],
      "text/plain": [
       "   work_year  experience_level  salary_in_usd  remote_ratio  company_location  \\\n",
       "0       2023                 2          85847           100                 0   \n",
       "3       2023                 2         175000           100                 0   \n",
       "4       2023                 2         120000           100                 0   \n",
       "5       2023                 2         222200             0                 1   \n",
       "6       2023                 2         136000             0                 1   \n",
       "\n",
       "   company_size  job_title_classified  \n",
       "0             2                   5.0  \n",
       "3             1                   5.0  \n",
       "4             1                   5.0  \n",
       "5             2                   5.0  \n",
       "6             2                   5.0  "
      ]
     },
     "execution_count": 29,
     "metadata": {},
     "output_type": "execute_result"
    }
   ],
   "source": [
    "# Job title classified column encoding\n",
    "\n",
    "encoder = OrdinalEncoder().set_output(transform=\"pandas\")\n",
    "\n",
    "df['job_title_classified'] = encoder.fit_transform(df[['job_title_classified']])\n",
    "\n",
    "df.head()"
   ]
  },
  {
   "cell_type": "markdown",
   "id": "dbb158b4",
   "metadata": {
    "papermill": {
     "duration": 0.024863,
     "end_time": "2024-04-29T22:28:54.956694",
     "exception": false,
     "start_time": "2024-04-29T22:28:54.931831",
     "status": "completed"
    },
    "tags": []
   },
   "source": [
    "# Split Data and Scale"
   ]
  },
  {
   "cell_type": "code",
   "execution_count": 30,
   "id": "f046b5f0",
   "metadata": {
    "execution": {
     "iopub.execute_input": "2024-04-29T22:28:55.010894Z",
     "iopub.status.busy": "2024-04-29T22:28:55.009901Z",
     "iopub.status.idle": "2024-04-29T22:28:55.019630Z",
     "shell.execute_reply": "2024-04-29T22:28:55.018201Z"
    },
    "papermill": {
     "duration": 0.040815,
     "end_time": "2024-04-29T22:28:55.022735",
     "exception": false,
     "start_time": "2024-04-29T22:28:54.981920",
     "status": "completed"
    },
    "tags": []
   },
   "outputs": [],
   "source": [
    "X = df.drop(['salary_in_usd'], axis=1)\n",
    "y = df[['salary_in_usd']]"
   ]
  },
  {
   "cell_type": "code",
   "execution_count": 31,
   "id": "81fabf1c",
   "metadata": {
    "execution": {
     "iopub.execute_input": "2024-04-29T22:28:55.075548Z",
     "iopub.status.busy": "2024-04-29T22:28:55.074886Z",
     "iopub.status.idle": "2024-04-29T22:28:55.081348Z",
     "shell.execute_reply": "2024-04-29T22:28:55.080371Z"
    },
    "papermill": {
     "duration": 0.035507,
     "end_time": "2024-04-29T22:28:55.083917",
     "exception": false,
     "start_time": "2024-04-29T22:28:55.048410",
     "status": "completed"
    },
    "tags": []
   },
   "outputs": [],
   "source": [
    "X_train, X_test, y_train, y_test = train_test_split(X, y, test_size=0.2, \n",
    "                                                    shuffle=False, random_state=31)"
   ]
  },
  {
   "cell_type": "code",
   "execution_count": 32,
   "id": "b911fd23",
   "metadata": {
    "execution": {
     "iopub.execute_input": "2024-04-29T22:28:55.140054Z",
     "iopub.status.busy": "2024-04-29T22:28:55.139307Z",
     "iopub.status.idle": "2024-04-29T22:28:55.152905Z",
     "shell.execute_reply": "2024-04-29T22:28:55.151170Z"
    },
    "papermill": {
     "duration": 0.045538,
     "end_time": "2024-04-29T22:28:55.155896",
     "exception": false,
     "start_time": "2024-04-29T22:28:55.110358",
     "status": "completed"
    },
    "tags": []
   },
   "outputs": [],
   "source": [
    "# Scaling by StandardScaler\n",
    "\n",
    "scaler = StandardScaler()\n",
    "\n",
    "X_train = scaler.fit_transform(X_train)\n",
    "X_test = scaler.transform(X_test)"
   ]
  },
  {
   "cell_type": "markdown",
   "id": "d418b535",
   "metadata": {
    "papermill": {
     "duration": 0.025187,
     "end_time": "2024-04-29T22:28:55.207020",
     "exception": false,
     "start_time": "2024-04-29T22:28:55.181833",
     "status": "completed"
    },
    "tags": []
   },
   "source": [
    "# Modelling"
   ]
  },
  {
   "cell_type": "markdown",
   "id": "7c1a4672",
   "metadata": {
    "papermill": {
     "duration": 0.025415,
     "end_time": "2024-04-29T22:28:55.257823",
     "exception": false,
     "start_time": "2024-04-29T22:28:55.232408",
     "status": "completed"
    },
    "tags": []
   },
   "source": [
    "## Linear Regression"
   ]
  },
  {
   "cell_type": "code",
   "execution_count": 33,
   "id": "ab19c866",
   "metadata": {
    "execution": {
     "iopub.execute_input": "2024-04-29T22:28:55.310240Z",
     "iopub.status.busy": "2024-04-29T22:28:55.308906Z",
     "iopub.status.idle": "2024-04-29T22:28:55.350562Z",
     "shell.execute_reply": "2024-04-29T22:28:55.349009Z"
    },
    "papermill": {
     "duration": 0.071218,
     "end_time": "2024-04-29T22:28:55.353729",
     "exception": false,
     "start_time": "2024-04-29T22:28:55.282511",
     "status": "completed"
    },
    "tags": []
   },
   "outputs": [
    {
     "data": {
      "text/html": [
       "<style>#sk-container-id-1 {color: black;background-color: white;}#sk-container-id-1 pre{padding: 0;}#sk-container-id-1 div.sk-toggleable {background-color: white;}#sk-container-id-1 label.sk-toggleable__label {cursor: pointer;display: block;width: 100%;margin-bottom: 0;padding: 0.3em;box-sizing: border-box;text-align: center;}#sk-container-id-1 label.sk-toggleable__label-arrow:before {content: \"▸\";float: left;margin-right: 0.25em;color: #696969;}#sk-container-id-1 label.sk-toggleable__label-arrow:hover:before {color: black;}#sk-container-id-1 div.sk-estimator:hover label.sk-toggleable__label-arrow:before {color: black;}#sk-container-id-1 div.sk-toggleable__content {max-height: 0;max-width: 0;overflow: hidden;text-align: left;background-color: #f0f8ff;}#sk-container-id-1 div.sk-toggleable__content pre {margin: 0.2em;color: black;border-radius: 0.25em;background-color: #f0f8ff;}#sk-container-id-1 input.sk-toggleable__control:checked~div.sk-toggleable__content {max-height: 200px;max-width: 100%;overflow: auto;}#sk-container-id-1 input.sk-toggleable__control:checked~label.sk-toggleable__label-arrow:before {content: \"▾\";}#sk-container-id-1 div.sk-estimator input.sk-toggleable__control:checked~label.sk-toggleable__label {background-color: #d4ebff;}#sk-container-id-1 div.sk-label input.sk-toggleable__control:checked~label.sk-toggleable__label {background-color: #d4ebff;}#sk-container-id-1 input.sk-hidden--visually {border: 0;clip: rect(1px 1px 1px 1px);clip: rect(1px, 1px, 1px, 1px);height: 1px;margin: -1px;overflow: hidden;padding: 0;position: absolute;width: 1px;}#sk-container-id-1 div.sk-estimator {font-family: monospace;background-color: #f0f8ff;border: 1px dotted black;border-radius: 0.25em;box-sizing: border-box;margin-bottom: 0.5em;}#sk-container-id-1 div.sk-estimator:hover {background-color: #d4ebff;}#sk-container-id-1 div.sk-parallel-item::after {content: \"\";width: 100%;border-bottom: 1px solid gray;flex-grow: 1;}#sk-container-id-1 div.sk-label:hover label.sk-toggleable__label {background-color: #d4ebff;}#sk-container-id-1 div.sk-serial::before {content: \"\";position: absolute;border-left: 1px solid gray;box-sizing: border-box;top: 0;bottom: 0;left: 50%;z-index: 0;}#sk-container-id-1 div.sk-serial {display: flex;flex-direction: column;align-items: center;background-color: white;padding-right: 0.2em;padding-left: 0.2em;position: relative;}#sk-container-id-1 div.sk-item {position: relative;z-index: 1;}#sk-container-id-1 div.sk-parallel {display: flex;align-items: stretch;justify-content: center;background-color: white;position: relative;}#sk-container-id-1 div.sk-item::before, #sk-container-id-1 div.sk-parallel-item::before {content: \"\";position: absolute;border-left: 1px solid gray;box-sizing: border-box;top: 0;bottom: 0;left: 50%;z-index: -1;}#sk-container-id-1 div.sk-parallel-item {display: flex;flex-direction: column;z-index: 1;position: relative;background-color: white;}#sk-container-id-1 div.sk-parallel-item:first-child::after {align-self: flex-end;width: 50%;}#sk-container-id-1 div.sk-parallel-item:last-child::after {align-self: flex-start;width: 50%;}#sk-container-id-1 div.sk-parallel-item:only-child::after {width: 0;}#sk-container-id-1 div.sk-dashed-wrapped {border: 1px dashed gray;margin: 0 0.4em 0.5em 0.4em;box-sizing: border-box;padding-bottom: 0.4em;background-color: white;}#sk-container-id-1 div.sk-label label {font-family: monospace;font-weight: bold;display: inline-block;line-height: 1.2em;}#sk-container-id-1 div.sk-label-container {text-align: center;}#sk-container-id-1 div.sk-container {/* jupyter's `normalize.less` sets `[hidden] { display: none; }` but bootstrap.min.css set `[hidden] { display: none !important; }` so we also need the `!important` here to be able to override the default hidden behavior on the sphinx rendered scikit-learn.org. See: https://github.com/scikit-learn/scikit-learn/issues/21755 */display: inline-block !important;position: relative;}#sk-container-id-1 div.sk-text-repr-fallback {display: none;}</style><div id=\"sk-container-id-1\" class=\"sk-top-container\"><div class=\"sk-text-repr-fallback\"><pre>LinearRegression()</pre><b>In a Jupyter environment, please rerun this cell to show the HTML representation or trust the notebook. <br />On GitHub, the HTML representation is unable to render, please try loading this page with nbviewer.org.</b></div><div class=\"sk-container\" hidden><div class=\"sk-item\"><div class=\"sk-estimator sk-toggleable\"><input class=\"sk-toggleable__control sk-hidden--visually\" id=\"sk-estimator-id-1\" type=\"checkbox\" checked><label for=\"sk-estimator-id-1\" class=\"sk-toggleable__label sk-toggleable__label-arrow\">LinearRegression</label><div class=\"sk-toggleable__content\"><pre>LinearRegression()</pre></div></div></div></div></div>"
      ],
      "text/plain": [
       "LinearRegression()"
      ]
     },
     "execution_count": 33,
     "metadata": {},
     "output_type": "execute_result"
    }
   ],
   "source": [
    "lin_reg = LinearRegression()\n",
    "\n",
    "lin_reg.fit(X_train, y_train)"
   ]
  },
  {
   "cell_type": "code",
   "execution_count": 34,
   "id": "62ede0cf",
   "metadata": {
    "execution": {
     "iopub.execute_input": "2024-04-29T22:28:55.409963Z",
     "iopub.status.busy": "2024-04-29T22:28:55.409229Z",
     "iopub.status.idle": "2024-04-29T22:28:55.414644Z",
     "shell.execute_reply": "2024-04-29T22:28:55.413692Z"
    },
    "papermill": {
     "duration": 0.035735,
     "end_time": "2024-04-29T22:28:55.417036",
     "exception": false,
     "start_time": "2024-04-29T22:28:55.381301",
     "status": "completed"
    },
    "tags": []
   },
   "outputs": [],
   "source": [
    "lr_pred = lin_reg.predict(X_test)"
   ]
  },
  {
   "cell_type": "code",
   "execution_count": 35,
   "id": "c1e7bd63",
   "metadata": {
    "execution": {
     "iopub.execute_input": "2024-04-29T22:28:55.471251Z",
     "iopub.status.busy": "2024-04-29T22:28:55.470834Z",
     "iopub.status.idle": "2024-04-29T22:28:55.481412Z",
     "shell.execute_reply": "2024-04-29T22:28:55.479753Z"
    },
    "papermill": {
     "duration": 0.040659,
     "end_time": "2024-04-29T22:28:55.484312",
     "exception": false,
     "start_time": "2024-04-29T22:28:55.443653",
     "status": "completed"
    },
    "tags": []
   },
   "outputs": [
    {
     "name": "stdout",
     "output_type": "stream",
     "text": [
      "33179.9915647159\n",
      "42401.53500336767\n"
     ]
    }
   ],
   "source": [
    "# MAE and R2 scores\n",
    "\n",
    "print(mean_absolute_error(y_test, lr_pred))\n",
    "print(np.sqrt(mean_squared_error(y_test, lr_pred)))"
   ]
  },
  {
   "cell_type": "markdown",
   "id": "081610c2",
   "metadata": {
    "papermill": {
     "duration": 0.027857,
     "end_time": "2024-04-29T22:28:55.539107",
     "exception": false,
     "start_time": "2024-04-29T22:28:55.511250",
     "status": "completed"
    },
    "tags": []
   },
   "source": [
    "## Ridge"
   ]
  },
  {
   "cell_type": "code",
   "execution_count": 36,
   "id": "3fefbc3f",
   "metadata": {
    "execution": {
     "iopub.execute_input": "2024-04-29T22:28:55.594108Z",
     "iopub.status.busy": "2024-04-29T22:28:55.593256Z",
     "iopub.status.idle": "2024-04-29T22:29:03.632744Z",
     "shell.execute_reply": "2024-04-29T22:29:03.630817Z"
    },
    "papermill": {
     "duration": 8.072933,
     "end_time": "2024-04-29T22:29:03.637804",
     "exception": false,
     "start_time": "2024-04-29T22:28:55.564871",
     "status": "completed"
    },
    "tags": []
   },
   "outputs": [
    {
     "name": "stdout",
     "output_type": "stream",
     "text": [
      "-37200.83582705523\n",
      "{'alpha': 1e-05, 'fit_intercept': True, 'solver': 'lsqr'}\n"
     ]
    }
   ],
   "source": [
    "rr = Ridge()\n",
    "\n",
    "# Grid search for best hyperparams\n",
    "\n",
    "cv = RepeatedKFold(n_splits=10, n_repeats=3, random_state=31)\n",
    "grid_space = dict()\n",
    "\n",
    "grid_space['solver'] = ['svd', 'cholesky', 'lsqr', 'sag']\n",
    "grid_space['fit_intercept'] = [True, False]\n",
    "grid_space['alpha'] = [1e-5, 1e-4, 1e-3, 1e-2, 1e-1, 1, 10, 100]\n",
    "\n",
    "grid_search = GridSearchCV(rr, grid_space, scoring='neg_mean_absolute_error', n_jobs=-1, cv=cv)\n",
    "\n",
    "grid_result = grid_search.fit(X_train, y_train)\n",
    "\n",
    "print(grid_result.best_score_)\n",
    "print(grid_result.best_params_)"
   ]
  },
  {
   "cell_type": "code",
   "execution_count": 37,
   "id": "b47ba3ee",
   "metadata": {
    "execution": {
     "iopub.execute_input": "2024-04-29T22:29:03.747379Z",
     "iopub.status.busy": "2024-04-29T22:29:03.746967Z",
     "iopub.status.idle": "2024-04-29T22:29:03.764948Z",
     "shell.execute_reply": "2024-04-29T22:29:03.763788Z"
    },
    "papermill": {
     "duration": 0.07357,
     "end_time": "2024-04-29T22:29:03.768781",
     "exception": false,
     "start_time": "2024-04-29T22:29:03.695211",
     "status": "completed"
    },
    "tags": []
   },
   "outputs": [
    {
     "data": {
      "text/html": [
       "<style>#sk-container-id-2 {color: black;background-color: white;}#sk-container-id-2 pre{padding: 0;}#sk-container-id-2 div.sk-toggleable {background-color: white;}#sk-container-id-2 label.sk-toggleable__label {cursor: pointer;display: block;width: 100%;margin-bottom: 0;padding: 0.3em;box-sizing: border-box;text-align: center;}#sk-container-id-2 label.sk-toggleable__label-arrow:before {content: \"▸\";float: left;margin-right: 0.25em;color: #696969;}#sk-container-id-2 label.sk-toggleable__label-arrow:hover:before {color: black;}#sk-container-id-2 div.sk-estimator:hover label.sk-toggleable__label-arrow:before {color: black;}#sk-container-id-2 div.sk-toggleable__content {max-height: 0;max-width: 0;overflow: hidden;text-align: left;background-color: #f0f8ff;}#sk-container-id-2 div.sk-toggleable__content pre {margin: 0.2em;color: black;border-radius: 0.25em;background-color: #f0f8ff;}#sk-container-id-2 input.sk-toggleable__control:checked~div.sk-toggleable__content {max-height: 200px;max-width: 100%;overflow: auto;}#sk-container-id-2 input.sk-toggleable__control:checked~label.sk-toggleable__label-arrow:before {content: \"▾\";}#sk-container-id-2 div.sk-estimator input.sk-toggleable__control:checked~label.sk-toggleable__label {background-color: #d4ebff;}#sk-container-id-2 div.sk-label input.sk-toggleable__control:checked~label.sk-toggleable__label {background-color: #d4ebff;}#sk-container-id-2 input.sk-hidden--visually {border: 0;clip: rect(1px 1px 1px 1px);clip: rect(1px, 1px, 1px, 1px);height: 1px;margin: -1px;overflow: hidden;padding: 0;position: absolute;width: 1px;}#sk-container-id-2 div.sk-estimator {font-family: monospace;background-color: #f0f8ff;border: 1px dotted black;border-radius: 0.25em;box-sizing: border-box;margin-bottom: 0.5em;}#sk-container-id-2 div.sk-estimator:hover {background-color: #d4ebff;}#sk-container-id-2 div.sk-parallel-item::after {content: \"\";width: 100%;border-bottom: 1px solid gray;flex-grow: 1;}#sk-container-id-2 div.sk-label:hover label.sk-toggleable__label {background-color: #d4ebff;}#sk-container-id-2 div.sk-serial::before {content: \"\";position: absolute;border-left: 1px solid gray;box-sizing: border-box;top: 0;bottom: 0;left: 50%;z-index: 0;}#sk-container-id-2 div.sk-serial {display: flex;flex-direction: column;align-items: center;background-color: white;padding-right: 0.2em;padding-left: 0.2em;position: relative;}#sk-container-id-2 div.sk-item {position: relative;z-index: 1;}#sk-container-id-2 div.sk-parallel {display: flex;align-items: stretch;justify-content: center;background-color: white;position: relative;}#sk-container-id-2 div.sk-item::before, #sk-container-id-2 div.sk-parallel-item::before {content: \"\";position: absolute;border-left: 1px solid gray;box-sizing: border-box;top: 0;bottom: 0;left: 50%;z-index: -1;}#sk-container-id-2 div.sk-parallel-item {display: flex;flex-direction: column;z-index: 1;position: relative;background-color: white;}#sk-container-id-2 div.sk-parallel-item:first-child::after {align-self: flex-end;width: 50%;}#sk-container-id-2 div.sk-parallel-item:last-child::after {align-self: flex-start;width: 50%;}#sk-container-id-2 div.sk-parallel-item:only-child::after {width: 0;}#sk-container-id-2 div.sk-dashed-wrapped {border: 1px dashed gray;margin: 0 0.4em 0.5em 0.4em;box-sizing: border-box;padding-bottom: 0.4em;background-color: white;}#sk-container-id-2 div.sk-label label {font-family: monospace;font-weight: bold;display: inline-block;line-height: 1.2em;}#sk-container-id-2 div.sk-label-container {text-align: center;}#sk-container-id-2 div.sk-container {/* jupyter's `normalize.less` sets `[hidden] { display: none; }` but bootstrap.min.css set `[hidden] { display: none !important; }` so we also need the `!important` here to be able to override the default hidden behavior on the sphinx rendered scikit-learn.org. See: https://github.com/scikit-learn/scikit-learn/issues/21755 */display: inline-block !important;position: relative;}#sk-container-id-2 div.sk-text-repr-fallback {display: none;}</style><div id=\"sk-container-id-2\" class=\"sk-top-container\"><div class=\"sk-text-repr-fallback\"><pre>Ridge(alpha=1e-05, solver=&#x27;lsqr&#x27;)</pre><b>In a Jupyter environment, please rerun this cell to show the HTML representation or trust the notebook. <br />On GitHub, the HTML representation is unable to render, please try loading this page with nbviewer.org.</b></div><div class=\"sk-container\" hidden><div class=\"sk-item\"><div class=\"sk-estimator sk-toggleable\"><input class=\"sk-toggleable__control sk-hidden--visually\" id=\"sk-estimator-id-2\" type=\"checkbox\" checked><label for=\"sk-estimator-id-2\" class=\"sk-toggleable__label sk-toggleable__label-arrow\">Ridge</label><div class=\"sk-toggleable__content\"><pre>Ridge(alpha=1e-05, solver=&#x27;lsqr&#x27;)</pre></div></div></div></div></div>"
      ],
      "text/plain": [
       "Ridge(alpha=1e-05, solver='lsqr')"
      ]
     },
     "execution_count": 37,
     "metadata": {},
     "output_type": "execute_result"
    }
   ],
   "source": [
    "rr_best = Ridge(alpha=1e-05, fit_intercept=True, solver='lsqr')\n",
    "\n",
    "rr_best.fit(X_train, y_train)"
   ]
  },
  {
   "cell_type": "code",
   "execution_count": 38,
   "id": "40cd9c41",
   "metadata": {
    "execution": {
     "iopub.execute_input": "2024-04-29T22:29:03.879790Z",
     "iopub.status.busy": "2024-04-29T22:29:03.879406Z",
     "iopub.status.idle": "2024-04-29T22:29:03.885290Z",
     "shell.execute_reply": "2024-04-29T22:29:03.884075Z"
    },
    "papermill": {
     "duration": 0.065483,
     "end_time": "2024-04-29T22:29:03.888165",
     "exception": false,
     "start_time": "2024-04-29T22:29:03.822682",
     "status": "completed"
    },
    "tags": []
   },
   "outputs": [],
   "source": [
    "rr_pred = rr_best.predict(X_test)"
   ]
  },
  {
   "cell_type": "code",
   "execution_count": 39,
   "id": "de7e5dc3",
   "metadata": {
    "execution": {
     "iopub.execute_input": "2024-04-29T22:29:03.941858Z",
     "iopub.status.busy": "2024-04-29T22:29:03.941046Z",
     "iopub.status.idle": "2024-04-29T22:29:03.950732Z",
     "shell.execute_reply": "2024-04-29T22:29:03.949492Z"
    },
    "papermill": {
     "duration": 0.039404,
     "end_time": "2024-04-29T22:29:03.953325",
     "exception": false,
     "start_time": "2024-04-29T22:29:03.913921",
     "status": "completed"
    },
    "tags": []
   },
   "outputs": [
    {
     "name": "stdout",
     "output_type": "stream",
     "text": [
      "33179.93388413461\n",
      "42401.52004907305\n"
     ]
    }
   ],
   "source": [
    "print(mean_absolute_error(y_test, rr_pred))\n",
    "print(np.sqrt(mean_squared_error(y_test, rr_pred)))"
   ]
  },
  {
   "cell_type": "markdown",
   "id": "5b4ff2a5",
   "metadata": {
    "papermill": {
     "duration": 0.025167,
     "end_time": "2024-04-29T22:29:04.003882",
     "exception": false,
     "start_time": "2024-04-29T22:29:03.978715",
     "status": "completed"
    },
    "tags": []
   },
   "source": [
    "## Lasso"
   ]
  },
  {
   "cell_type": "code",
   "execution_count": 40,
   "id": "da24c29b",
   "metadata": {
    "execution": {
     "iopub.execute_input": "2024-04-29T22:29:04.057274Z",
     "iopub.status.busy": "2024-04-29T22:29:04.056815Z",
     "iopub.status.idle": "2024-04-29T22:29:04.984999Z",
     "shell.execute_reply": "2024-04-29T22:29:04.983874Z"
    },
    "papermill": {
     "duration": 0.959916,
     "end_time": "2024-04-29T22:29:04.989157",
     "exception": false,
     "start_time": "2024-04-29T22:29:04.029241",
     "status": "completed"
    },
    "tags": []
   },
   "outputs": [
    {
     "name": "stdout",
     "output_type": "stream",
     "text": [
      "-37200.92546547005\n",
      "{'alpha': 1e-05, 'fit_intercept': True}\n"
     ]
    }
   ],
   "source": [
    "las_reg = Lasso()\n",
    "\n",
    "# Grid search for best hyperparams\n",
    "\n",
    "grid_space_las = dict()\n",
    "\n",
    "grid_space_las['fit_intercept'] = [True, False]\n",
    "grid_space_las['alpha'] = [1e-5, 1e-4, 1e-3, 1e-2, 1e-1, 1, 10, 100]\n",
    "\n",
    "grid_search_las = GridSearchCV(las_reg, grid_space_las, scoring='neg_mean_absolute_error', n_jobs=-1, cv=cv)\n",
    "\n",
    "grid_result_las = grid_search_las.fit(X_train, y_train)\n",
    "\n",
    "print(grid_result_las.best_score_) # Tiny worse than ridge\n",
    "print(grid_result_las.best_params_)"
   ]
  },
  {
   "cell_type": "code",
   "execution_count": 41,
   "id": "48f80b28",
   "metadata": {
    "execution": {
     "iopub.execute_input": "2024-04-29T22:29:05.106860Z",
     "iopub.status.busy": "2024-04-29T22:29:05.106470Z",
     "iopub.status.idle": "2024-04-29T22:29:05.122564Z",
     "shell.execute_reply": "2024-04-29T22:29:05.121404Z"
    },
    "papermill": {
     "duration": 0.075096,
     "end_time": "2024-04-29T22:29:05.126883",
     "exception": false,
     "start_time": "2024-04-29T22:29:05.051787",
     "status": "completed"
    },
    "tags": []
   },
   "outputs": [
    {
     "data": {
      "text/html": [
       "<style>#sk-container-id-3 {color: black;background-color: white;}#sk-container-id-3 pre{padding: 0;}#sk-container-id-3 div.sk-toggleable {background-color: white;}#sk-container-id-3 label.sk-toggleable__label {cursor: pointer;display: block;width: 100%;margin-bottom: 0;padding: 0.3em;box-sizing: border-box;text-align: center;}#sk-container-id-3 label.sk-toggleable__label-arrow:before {content: \"▸\";float: left;margin-right: 0.25em;color: #696969;}#sk-container-id-3 label.sk-toggleable__label-arrow:hover:before {color: black;}#sk-container-id-3 div.sk-estimator:hover label.sk-toggleable__label-arrow:before {color: black;}#sk-container-id-3 div.sk-toggleable__content {max-height: 0;max-width: 0;overflow: hidden;text-align: left;background-color: #f0f8ff;}#sk-container-id-3 div.sk-toggleable__content pre {margin: 0.2em;color: black;border-radius: 0.25em;background-color: #f0f8ff;}#sk-container-id-3 input.sk-toggleable__control:checked~div.sk-toggleable__content {max-height: 200px;max-width: 100%;overflow: auto;}#sk-container-id-3 input.sk-toggleable__control:checked~label.sk-toggleable__label-arrow:before {content: \"▾\";}#sk-container-id-3 div.sk-estimator input.sk-toggleable__control:checked~label.sk-toggleable__label {background-color: #d4ebff;}#sk-container-id-3 div.sk-label input.sk-toggleable__control:checked~label.sk-toggleable__label {background-color: #d4ebff;}#sk-container-id-3 input.sk-hidden--visually {border: 0;clip: rect(1px 1px 1px 1px);clip: rect(1px, 1px, 1px, 1px);height: 1px;margin: -1px;overflow: hidden;padding: 0;position: absolute;width: 1px;}#sk-container-id-3 div.sk-estimator {font-family: monospace;background-color: #f0f8ff;border: 1px dotted black;border-radius: 0.25em;box-sizing: border-box;margin-bottom: 0.5em;}#sk-container-id-3 div.sk-estimator:hover {background-color: #d4ebff;}#sk-container-id-3 div.sk-parallel-item::after {content: \"\";width: 100%;border-bottom: 1px solid gray;flex-grow: 1;}#sk-container-id-3 div.sk-label:hover label.sk-toggleable__label {background-color: #d4ebff;}#sk-container-id-3 div.sk-serial::before {content: \"\";position: absolute;border-left: 1px solid gray;box-sizing: border-box;top: 0;bottom: 0;left: 50%;z-index: 0;}#sk-container-id-3 div.sk-serial {display: flex;flex-direction: column;align-items: center;background-color: white;padding-right: 0.2em;padding-left: 0.2em;position: relative;}#sk-container-id-3 div.sk-item {position: relative;z-index: 1;}#sk-container-id-3 div.sk-parallel {display: flex;align-items: stretch;justify-content: center;background-color: white;position: relative;}#sk-container-id-3 div.sk-item::before, #sk-container-id-3 div.sk-parallel-item::before {content: \"\";position: absolute;border-left: 1px solid gray;box-sizing: border-box;top: 0;bottom: 0;left: 50%;z-index: -1;}#sk-container-id-3 div.sk-parallel-item {display: flex;flex-direction: column;z-index: 1;position: relative;background-color: white;}#sk-container-id-3 div.sk-parallel-item:first-child::after {align-self: flex-end;width: 50%;}#sk-container-id-3 div.sk-parallel-item:last-child::after {align-self: flex-start;width: 50%;}#sk-container-id-3 div.sk-parallel-item:only-child::after {width: 0;}#sk-container-id-3 div.sk-dashed-wrapped {border: 1px dashed gray;margin: 0 0.4em 0.5em 0.4em;box-sizing: border-box;padding-bottom: 0.4em;background-color: white;}#sk-container-id-3 div.sk-label label {font-family: monospace;font-weight: bold;display: inline-block;line-height: 1.2em;}#sk-container-id-3 div.sk-label-container {text-align: center;}#sk-container-id-3 div.sk-container {/* jupyter's `normalize.less` sets `[hidden] { display: none; }` but bootstrap.min.css set `[hidden] { display: none !important; }` so we also need the `!important` here to be able to override the default hidden behavior on the sphinx rendered scikit-learn.org. See: https://github.com/scikit-learn/scikit-learn/issues/21755 */display: inline-block !important;position: relative;}#sk-container-id-3 div.sk-text-repr-fallback {display: none;}</style><div id=\"sk-container-id-3\" class=\"sk-top-container\"><div class=\"sk-text-repr-fallback\"><pre>Lasso(alpha=1e-05)</pre><b>In a Jupyter environment, please rerun this cell to show the HTML representation or trust the notebook. <br />On GitHub, the HTML representation is unable to render, please try loading this page with nbviewer.org.</b></div><div class=\"sk-container\" hidden><div class=\"sk-item\"><div class=\"sk-estimator sk-toggleable\"><input class=\"sk-toggleable__control sk-hidden--visually\" id=\"sk-estimator-id-3\" type=\"checkbox\" checked><label for=\"sk-estimator-id-3\" class=\"sk-toggleable__label sk-toggleable__label-arrow\">Lasso</label><div class=\"sk-toggleable__content\"><pre>Lasso(alpha=1e-05)</pre></div></div></div></div></div>"
      ],
      "text/plain": [
       "Lasso(alpha=1e-05)"
      ]
     },
     "execution_count": 41,
     "metadata": {},
     "output_type": "execute_result"
    }
   ],
   "source": [
    "las_reg_best = Lasso(alpha=1e-5, fit_intercept=True)\n",
    "\n",
    "las_reg_best.fit(X_train, y_train)"
   ]
  },
  {
   "cell_type": "code",
   "execution_count": 42,
   "id": "9c333c5d",
   "metadata": {
    "execution": {
     "iopub.execute_input": "2024-04-29T22:29:05.240236Z",
     "iopub.status.busy": "2024-04-29T22:29:05.239792Z",
     "iopub.status.idle": "2024-04-29T22:29:05.245405Z",
     "shell.execute_reply": "2024-04-29T22:29:05.244192Z"
    },
    "papermill": {
     "duration": 0.064879,
     "end_time": "2024-04-29T22:29:05.248109",
     "exception": false,
     "start_time": "2024-04-29T22:29:05.183230",
     "status": "completed"
    },
    "tags": []
   },
   "outputs": [],
   "source": [
    "las_reg_pred = las_reg_best.predict(X_test)"
   ]
  },
  {
   "cell_type": "code",
   "execution_count": 43,
   "id": "48621f28",
   "metadata": {
    "execution": {
     "iopub.execute_input": "2024-04-29T22:29:05.302663Z",
     "iopub.status.busy": "2024-04-29T22:29:05.301996Z",
     "iopub.status.idle": "2024-04-29T22:29:05.312456Z",
     "shell.execute_reply": "2024-04-29T22:29:05.311587Z"
    },
    "papermill": {
     "duration": 0.040869,
     "end_time": "2024-04-29T22:29:05.315057",
     "exception": false,
     "start_time": "2024-04-29T22:29:05.274188",
     "status": "completed"
    },
    "tags": []
   },
   "outputs": [
    {
     "name": "stdout",
     "output_type": "stream",
     "text": [
      "33179.99156731675\n",
      "42401.53500535977\n"
     ]
    }
   ],
   "source": [
    "print(mean_absolute_error(y_test, las_reg_pred))\n",
    "print(np.sqrt(mean_squared_error(y_test, las_reg_pred)))"
   ]
  },
  {
   "cell_type": "markdown",
   "id": "f826ca11",
   "metadata": {
    "papermill": {
     "duration": 0.025501,
     "end_time": "2024-04-29T22:29:05.366659",
     "exception": false,
     "start_time": "2024-04-29T22:29:05.341158",
     "status": "completed"
    },
    "tags": []
   },
   "source": [
    "## Elastic Net"
   ]
  },
  {
   "cell_type": "code",
   "execution_count": 44,
   "id": "f40f953d",
   "metadata": {
    "execution": {
     "iopub.execute_input": "2024-04-29T22:29:05.420391Z",
     "iopub.status.busy": "2024-04-29T22:29:05.419741Z",
     "iopub.status.idle": "2024-04-29T22:29:12.928012Z",
     "shell.execute_reply": "2024-04-29T22:29:12.926482Z"
    },
    "papermill": {
     "duration": 7.540318,
     "end_time": "2024-04-29T22:29:12.932820",
     "exception": false,
     "start_time": "2024-04-29T22:29:05.392502",
     "status": "completed"
    },
    "tags": []
   },
   "outputs": [
    {
     "name": "stdout",
     "output_type": "stream",
     "text": [
      "-37200.9262002962\n",
      "{'alpha': 1e-05, 'fit_intercept': True, 'l1_ratio': 0.9}\n"
     ]
    }
   ],
   "source": [
    "en_reg = ElasticNet()\n",
    "\n",
    "# Grid search for best hyperparams\n",
    "\n",
    "grid_space_en = dict()\n",
    "\n",
    "grid_space_en['l1_ratio'] = [0.1, 0.2, 0.3, 0.4, 0.5, 0.6, 0.7, 0.8, 0.9]\n",
    "grid_space_en['fit_intercept'] = [True, False]\n",
    "grid_space_en['alpha'] = [1e-5, 1e-4, 1e-3, 1e-2, 1e-1, 1, 10, 100]\n",
    "\n",
    "grid_search_en = GridSearchCV(en_reg, grid_space_en, scoring='neg_mean_absolute_error', n_jobs=-1, cv=cv)\n",
    "\n",
    "grid_result_en = grid_search_en.fit(X_train, y_train)\n",
    "\n",
    "print(grid_result_en.best_score_) # as expected, best l1_ratio is the highest since ridge is better\n",
    "print(grid_result_en.best_params_)"
   ]
  },
  {
   "cell_type": "code",
   "execution_count": 45,
   "id": "acf9a7c8",
   "metadata": {
    "execution": {
     "iopub.execute_input": "2024-04-29T22:29:13.043006Z",
     "iopub.status.busy": "2024-04-29T22:29:13.042510Z",
     "iopub.status.idle": "2024-04-29T22:29:13.058341Z",
     "shell.execute_reply": "2024-04-29T22:29:13.057240Z"
    },
    "papermill": {
     "duration": 0.073773,
     "end_time": "2024-04-29T22:29:13.062156",
     "exception": false,
     "start_time": "2024-04-29T22:29:12.988383",
     "status": "completed"
    },
    "tags": []
   },
   "outputs": [
    {
     "data": {
      "text/html": [
       "<style>#sk-container-id-4 {color: black;background-color: white;}#sk-container-id-4 pre{padding: 0;}#sk-container-id-4 div.sk-toggleable {background-color: white;}#sk-container-id-4 label.sk-toggleable__label {cursor: pointer;display: block;width: 100%;margin-bottom: 0;padding: 0.3em;box-sizing: border-box;text-align: center;}#sk-container-id-4 label.sk-toggleable__label-arrow:before {content: \"▸\";float: left;margin-right: 0.25em;color: #696969;}#sk-container-id-4 label.sk-toggleable__label-arrow:hover:before {color: black;}#sk-container-id-4 div.sk-estimator:hover label.sk-toggleable__label-arrow:before {color: black;}#sk-container-id-4 div.sk-toggleable__content {max-height: 0;max-width: 0;overflow: hidden;text-align: left;background-color: #f0f8ff;}#sk-container-id-4 div.sk-toggleable__content pre {margin: 0.2em;color: black;border-radius: 0.25em;background-color: #f0f8ff;}#sk-container-id-4 input.sk-toggleable__control:checked~div.sk-toggleable__content {max-height: 200px;max-width: 100%;overflow: auto;}#sk-container-id-4 input.sk-toggleable__control:checked~label.sk-toggleable__label-arrow:before {content: \"▾\";}#sk-container-id-4 div.sk-estimator input.sk-toggleable__control:checked~label.sk-toggleable__label {background-color: #d4ebff;}#sk-container-id-4 div.sk-label input.sk-toggleable__control:checked~label.sk-toggleable__label {background-color: #d4ebff;}#sk-container-id-4 input.sk-hidden--visually {border: 0;clip: rect(1px 1px 1px 1px);clip: rect(1px, 1px, 1px, 1px);height: 1px;margin: -1px;overflow: hidden;padding: 0;position: absolute;width: 1px;}#sk-container-id-4 div.sk-estimator {font-family: monospace;background-color: #f0f8ff;border: 1px dotted black;border-radius: 0.25em;box-sizing: border-box;margin-bottom: 0.5em;}#sk-container-id-4 div.sk-estimator:hover {background-color: #d4ebff;}#sk-container-id-4 div.sk-parallel-item::after {content: \"\";width: 100%;border-bottom: 1px solid gray;flex-grow: 1;}#sk-container-id-4 div.sk-label:hover label.sk-toggleable__label {background-color: #d4ebff;}#sk-container-id-4 div.sk-serial::before {content: \"\";position: absolute;border-left: 1px solid gray;box-sizing: border-box;top: 0;bottom: 0;left: 50%;z-index: 0;}#sk-container-id-4 div.sk-serial {display: flex;flex-direction: column;align-items: center;background-color: white;padding-right: 0.2em;padding-left: 0.2em;position: relative;}#sk-container-id-4 div.sk-item {position: relative;z-index: 1;}#sk-container-id-4 div.sk-parallel {display: flex;align-items: stretch;justify-content: center;background-color: white;position: relative;}#sk-container-id-4 div.sk-item::before, #sk-container-id-4 div.sk-parallel-item::before {content: \"\";position: absolute;border-left: 1px solid gray;box-sizing: border-box;top: 0;bottom: 0;left: 50%;z-index: -1;}#sk-container-id-4 div.sk-parallel-item {display: flex;flex-direction: column;z-index: 1;position: relative;background-color: white;}#sk-container-id-4 div.sk-parallel-item:first-child::after {align-self: flex-end;width: 50%;}#sk-container-id-4 div.sk-parallel-item:last-child::after {align-self: flex-start;width: 50%;}#sk-container-id-4 div.sk-parallel-item:only-child::after {width: 0;}#sk-container-id-4 div.sk-dashed-wrapped {border: 1px dashed gray;margin: 0 0.4em 0.5em 0.4em;box-sizing: border-box;padding-bottom: 0.4em;background-color: white;}#sk-container-id-4 div.sk-label label {font-family: monospace;font-weight: bold;display: inline-block;line-height: 1.2em;}#sk-container-id-4 div.sk-label-container {text-align: center;}#sk-container-id-4 div.sk-container {/* jupyter's `normalize.less` sets `[hidden] { display: none; }` but bootstrap.min.css set `[hidden] { display: none !important; }` so we also need the `!important` here to be able to override the default hidden behavior on the sphinx rendered scikit-learn.org. See: https://github.com/scikit-learn/scikit-learn/issues/21755 */display: inline-block !important;position: relative;}#sk-container-id-4 div.sk-text-repr-fallback {display: none;}</style><div id=\"sk-container-id-4\" class=\"sk-top-container\"><div class=\"sk-text-repr-fallback\"><pre>ElasticNet(alpha=1e-05, l1_ratio=0.9)</pre><b>In a Jupyter environment, please rerun this cell to show the HTML representation or trust the notebook. <br />On GitHub, the HTML representation is unable to render, please try loading this page with nbviewer.org.</b></div><div class=\"sk-container\" hidden><div class=\"sk-item\"><div class=\"sk-estimator sk-toggleable\"><input class=\"sk-toggleable__control sk-hidden--visually\" id=\"sk-estimator-id-4\" type=\"checkbox\" checked><label for=\"sk-estimator-id-4\" class=\"sk-toggleable__label sk-toggleable__label-arrow\">ElasticNet</label><div class=\"sk-toggleable__content\"><pre>ElasticNet(alpha=1e-05, l1_ratio=0.9)</pre></div></div></div></div></div>"
      ],
      "text/plain": [
       "ElasticNet(alpha=1e-05, l1_ratio=0.9)"
      ]
     },
     "execution_count": 45,
     "metadata": {},
     "output_type": "execute_result"
    }
   ],
   "source": [
    "en_reg_best = ElasticNet(alpha=1e-5, l1_ratio=0.9, fit_intercept=True)\n",
    "\n",
    "en_reg_best.fit(X_train, y_train)"
   ]
  },
  {
   "cell_type": "code",
   "execution_count": 46,
   "id": "812cd9b8",
   "metadata": {
    "execution": {
     "iopub.execute_input": "2024-04-29T22:29:13.175821Z",
     "iopub.status.busy": "2024-04-29T22:29:13.175455Z",
     "iopub.status.idle": "2024-04-29T22:29:13.180728Z",
     "shell.execute_reply": "2024-04-29T22:29:13.179580Z"
    },
    "papermill": {
     "duration": 0.063369,
     "end_time": "2024-04-29T22:29:13.182964",
     "exception": false,
     "start_time": "2024-04-29T22:29:13.119595",
     "status": "completed"
    },
    "tags": []
   },
   "outputs": [],
   "source": [
    "en_reg_pred = en_reg_best.predict(X_test)"
   ]
  },
  {
   "cell_type": "code",
   "execution_count": 47,
   "id": "1069c9cd",
   "metadata": {
    "execution": {
     "iopub.execute_input": "2024-04-29T22:29:13.238252Z",
     "iopub.status.busy": "2024-04-29T22:29:13.237826Z",
     "iopub.status.idle": "2024-04-29T22:29:13.248474Z",
     "shell.execute_reply": "2024-04-29T22:29:13.247147Z"
    },
    "papermill": {
     "duration": 0.041418,
     "end_time": "2024-04-29T22:29:13.250762",
     "exception": false,
     "start_time": "2024-04-29T22:29:13.209344",
     "status": "completed"
    },
    "tags": []
   },
   "outputs": [
    {
     "name": "stdout",
     "output_type": "stream",
     "text": [
      "33179.995021307834\n",
      "42401.53671237104\n"
     ]
    }
   ],
   "source": [
    "print(mean_absolute_error(y_test, en_reg_pred))\n",
    "print(np.sqrt(mean_squared_error(y_test, en_reg_pred)))"
   ]
  },
  {
   "cell_type": "markdown",
   "id": "b212db27",
   "metadata": {
    "papermill": {
     "duration": 0.026045,
     "end_time": "2024-04-29T22:29:13.303058",
     "exception": false,
     "start_time": "2024-04-29T22:29:13.277013",
     "status": "completed"
    },
    "tags": []
   },
   "source": [
    "## Random Forest"
   ]
  },
  {
   "cell_type": "code",
   "execution_count": 48,
   "id": "0539277d",
   "metadata": {
    "execution": {
     "iopub.execute_input": "2024-04-29T22:29:13.358633Z",
     "iopub.status.busy": "2024-04-29T22:29:13.357523Z",
     "iopub.status.idle": "2024-04-29T22:37:16.353861Z",
     "shell.execute_reply": "2024-04-29T22:37:16.352600Z"
    },
    "papermill": {
     "duration": 483.055173,
     "end_time": "2024-04-29T22:37:16.384777",
     "exception": false,
     "start_time": "2024-04-29T22:29:13.329604",
     "status": "completed"
    },
    "tags": []
   },
   "outputs": [
    {
     "name": "stdout",
     "output_type": "stream",
     "text": [
      "-36266.46939672604\n",
      "{'bootstrap': True, 'max_depth': 15, 'max_leaf_nodes': 9, 'n_estimators': 50}\n"
     ]
    }
   ],
   "source": [
    "rf_reg = RandomForestRegressor()\n",
    "\n",
    "# Grid search for best hyperparams\n",
    "\n",
    "grid_space_rf = dict()\n",
    "\n",
    "grid_space_rf['n_estimators'] = [50, 100, 200, 300, 400]\n",
    "grid_space_rf['bootstrap'] = [True, False]\n",
    "grid_space_rf['max_depth'] = [5, 10, 15]\n",
    "grid_space_rf['max_leaf_nodes'] = [3, 6, 9]\n",
    "\n",
    "grid_search_rf = GridSearchCV(rf_reg, grid_space_rf, scoring='neg_mean_absolute_error', n_jobs=-1, cv=cv)\n",
    "\n",
    "# Convert y into a 1-d array\n",
    "y_train_1d = y_train.values.ravel()\n",
    "\n",
    "grid_result_rf = grid_search_rf.fit(X_train, y_train_1d)\n",
    "\n",
    "print(grid_result_rf.best_score_)\n",
    "print(grid_result_rf.best_params_)"
   ]
  },
  {
   "cell_type": "code",
   "execution_count": 49,
   "id": "d7d1f145",
   "metadata": {
    "execution": {
     "iopub.execute_input": "2024-04-29T22:37:16.439663Z",
     "iopub.status.busy": "2024-04-29T22:37:16.439242Z",
     "iopub.status.idle": "2024-04-29T22:37:16.578587Z",
     "shell.execute_reply": "2024-04-29T22:37:16.577513Z"
    },
    "papermill": {
     "duration": 0.16974,
     "end_time": "2024-04-29T22:37:16.581095",
     "exception": false,
     "start_time": "2024-04-29T22:37:16.411355",
     "status": "completed"
    },
    "tags": []
   },
   "outputs": [
    {
     "data": {
      "text/html": [
       "<style>#sk-container-id-5 {color: black;background-color: white;}#sk-container-id-5 pre{padding: 0;}#sk-container-id-5 div.sk-toggleable {background-color: white;}#sk-container-id-5 label.sk-toggleable__label {cursor: pointer;display: block;width: 100%;margin-bottom: 0;padding: 0.3em;box-sizing: border-box;text-align: center;}#sk-container-id-5 label.sk-toggleable__label-arrow:before {content: \"▸\";float: left;margin-right: 0.25em;color: #696969;}#sk-container-id-5 label.sk-toggleable__label-arrow:hover:before {color: black;}#sk-container-id-5 div.sk-estimator:hover label.sk-toggleable__label-arrow:before {color: black;}#sk-container-id-5 div.sk-toggleable__content {max-height: 0;max-width: 0;overflow: hidden;text-align: left;background-color: #f0f8ff;}#sk-container-id-5 div.sk-toggleable__content pre {margin: 0.2em;color: black;border-radius: 0.25em;background-color: #f0f8ff;}#sk-container-id-5 input.sk-toggleable__control:checked~div.sk-toggleable__content {max-height: 200px;max-width: 100%;overflow: auto;}#sk-container-id-5 input.sk-toggleable__control:checked~label.sk-toggleable__label-arrow:before {content: \"▾\";}#sk-container-id-5 div.sk-estimator input.sk-toggleable__control:checked~label.sk-toggleable__label {background-color: #d4ebff;}#sk-container-id-5 div.sk-label input.sk-toggleable__control:checked~label.sk-toggleable__label {background-color: #d4ebff;}#sk-container-id-5 input.sk-hidden--visually {border: 0;clip: rect(1px 1px 1px 1px);clip: rect(1px, 1px, 1px, 1px);height: 1px;margin: -1px;overflow: hidden;padding: 0;position: absolute;width: 1px;}#sk-container-id-5 div.sk-estimator {font-family: monospace;background-color: #f0f8ff;border: 1px dotted black;border-radius: 0.25em;box-sizing: border-box;margin-bottom: 0.5em;}#sk-container-id-5 div.sk-estimator:hover {background-color: #d4ebff;}#sk-container-id-5 div.sk-parallel-item::after {content: \"\";width: 100%;border-bottom: 1px solid gray;flex-grow: 1;}#sk-container-id-5 div.sk-label:hover label.sk-toggleable__label {background-color: #d4ebff;}#sk-container-id-5 div.sk-serial::before {content: \"\";position: absolute;border-left: 1px solid gray;box-sizing: border-box;top: 0;bottom: 0;left: 50%;z-index: 0;}#sk-container-id-5 div.sk-serial {display: flex;flex-direction: column;align-items: center;background-color: white;padding-right: 0.2em;padding-left: 0.2em;position: relative;}#sk-container-id-5 div.sk-item {position: relative;z-index: 1;}#sk-container-id-5 div.sk-parallel {display: flex;align-items: stretch;justify-content: center;background-color: white;position: relative;}#sk-container-id-5 div.sk-item::before, #sk-container-id-5 div.sk-parallel-item::before {content: \"\";position: absolute;border-left: 1px solid gray;box-sizing: border-box;top: 0;bottom: 0;left: 50%;z-index: -1;}#sk-container-id-5 div.sk-parallel-item {display: flex;flex-direction: column;z-index: 1;position: relative;background-color: white;}#sk-container-id-5 div.sk-parallel-item:first-child::after {align-self: flex-end;width: 50%;}#sk-container-id-5 div.sk-parallel-item:last-child::after {align-self: flex-start;width: 50%;}#sk-container-id-5 div.sk-parallel-item:only-child::after {width: 0;}#sk-container-id-5 div.sk-dashed-wrapped {border: 1px dashed gray;margin: 0 0.4em 0.5em 0.4em;box-sizing: border-box;padding-bottom: 0.4em;background-color: white;}#sk-container-id-5 div.sk-label label {font-family: monospace;font-weight: bold;display: inline-block;line-height: 1.2em;}#sk-container-id-5 div.sk-label-container {text-align: center;}#sk-container-id-5 div.sk-container {/* jupyter's `normalize.less` sets `[hidden] { display: none; }` but bootstrap.min.css set `[hidden] { display: none !important; }` so we also need the `!important` here to be able to override the default hidden behavior on the sphinx rendered scikit-learn.org. See: https://github.com/scikit-learn/scikit-learn/issues/21755 */display: inline-block !important;position: relative;}#sk-container-id-5 div.sk-text-repr-fallback {display: none;}</style><div id=\"sk-container-id-5\" class=\"sk-top-container\"><div class=\"sk-text-repr-fallback\"><pre>RandomForestRegressor(max_depth=5, max_leaf_nodes=9, n_estimators=50)</pre><b>In a Jupyter environment, please rerun this cell to show the HTML representation or trust the notebook. <br />On GitHub, the HTML representation is unable to render, please try loading this page with nbviewer.org.</b></div><div class=\"sk-container\" hidden><div class=\"sk-item\"><div class=\"sk-estimator sk-toggleable\"><input class=\"sk-toggleable__control sk-hidden--visually\" id=\"sk-estimator-id-5\" type=\"checkbox\" checked><label for=\"sk-estimator-id-5\" class=\"sk-toggleable__label sk-toggleable__label-arrow\">RandomForestRegressor</label><div class=\"sk-toggleable__content\"><pre>RandomForestRegressor(max_depth=5, max_leaf_nodes=9, n_estimators=50)</pre></div></div></div></div></div>"
      ],
      "text/plain": [
       "RandomForestRegressor(max_depth=5, max_leaf_nodes=9, n_estimators=50)"
      ]
     },
     "execution_count": 49,
     "metadata": {},
     "output_type": "execute_result"
    }
   ],
   "source": [
    "rf_reg_best = RandomForestRegressor(n_estimators=50, max_depth=5, max_leaf_nodes=9, bootstrap=True)\n",
    "\n",
    "rf_reg_best.fit(X_train, y_train_1d)"
   ]
  },
  {
   "cell_type": "code",
   "execution_count": 50,
   "id": "e17373eb",
   "metadata": {
    "execution": {
     "iopub.execute_input": "2024-04-29T22:37:16.637550Z",
     "iopub.status.busy": "2024-04-29T22:37:16.636490Z",
     "iopub.status.idle": "2024-04-29T22:37:16.646051Z",
     "shell.execute_reply": "2024-04-29T22:37:16.645254Z"
    },
    "papermill": {
     "duration": 0.040112,
     "end_time": "2024-04-29T22:37:16.648548",
     "exception": false,
     "start_time": "2024-04-29T22:37:16.608436",
     "status": "completed"
    },
    "tags": []
   },
   "outputs": [],
   "source": [
    "rf_reg_pred = rf_reg_best.predict(X_test)"
   ]
  },
  {
   "cell_type": "code",
   "execution_count": 51,
   "id": "14894459",
   "metadata": {
    "execution": {
     "iopub.execute_input": "2024-04-29T22:37:16.704192Z",
     "iopub.status.busy": "2024-04-29T22:37:16.703540Z",
     "iopub.status.idle": "2024-04-29T22:37:16.713421Z",
     "shell.execute_reply": "2024-04-29T22:37:16.712110Z"
    },
    "papermill": {
     "duration": 0.040494,
     "end_time": "2024-04-29T22:37:16.715667",
     "exception": false,
     "start_time": "2024-04-29T22:37:16.675173",
     "status": "completed"
    },
    "tags": []
   },
   "outputs": [
    {
     "name": "stdout",
     "output_type": "stream",
     "text": [
      "33291.09338733592\n",
      "42907.10940915289\n"
     ]
    }
   ],
   "source": [
    "print(mean_absolute_error(y_test, rf_reg_pred))\n",
    "print(np.sqrt(mean_squared_error(y_test, rf_reg_pred)))"
   ]
  }
 ],
 "metadata": {
  "kaggle": {
   "accelerator": "none",
   "dataSources": [
    {
     "datasetId": 3125926,
     "sourceId": 5392837,
     "sourceType": "datasetVersion"
    }
   ],
   "dockerImageVersionId": 30684,
   "isGpuEnabled": false,
   "isInternetEnabled": false,
   "language": "python",
   "sourceType": "notebook"
  },
  "kernelspec": {
   "display_name": "Python 3",
   "language": "python",
   "name": "python3"
  },
  "language_info": {
   "codemirror_mode": {
    "name": "ipython",
    "version": 3
   },
   "file_extension": ".py",
   "mimetype": "text/x-python",
   "name": "python",
   "nbconvert_exporter": "python",
   "pygments_lexer": "ipython3",
   "version": "3.10.13"
  },
  "papermill": {
   "default_parameters": {},
   "duration": 517.42909,
   "end_time": "2024-04-29T22:37:19.367308",
   "environment_variables": {},
   "exception": null,
   "input_path": "__notebook__.ipynb",
   "output_path": "__notebook__.ipynb",
   "parameters": {},
   "start_time": "2024-04-29T22:28:41.938218",
   "version": "2.5.0"
  }
 },
 "nbformat": 4,
 "nbformat_minor": 5
}
